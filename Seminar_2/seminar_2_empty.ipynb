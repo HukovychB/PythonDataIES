{
 "cells": [
  {
   "cell_type": "markdown",
   "metadata": {
    "nteract": {
     "transient": {
      "deleting": false
     }
    }
   },
   "source": [
    "# Seminar: Exploratory Data Analysis in Python/Pandas environment\n",
    "\n",
    "* We will use the Ames Housing dataset of real estate sales\n",
    "* The content is based on the Kaggle Competition House Prices Advanced Regression Techniques. See details [here](https://www.kaggle.com/competitions/house-prices-advanced-regression-techniques)."
   ]
  },
  {
   "cell_type": "markdown",
   "metadata": {},
   "source": [
    "### Goals for today:\n",
    "* Read files (csv)\n",
    "* Display needed parts of df\n",
    "* Aggregate df\n",
    "* Filter df"
   ]
  },
  {
   "cell_type": "code",
   "execution_count": 28,
   "metadata": {
    "gather": {
     "logged": 1665932462185
    },
    "tags": []
   },
   "outputs": [],
   "source": [
    "%matplotlib inline\n",
    "import pandas as pd\n",
    "import seaborn as sns\n",
    "import math\n",
    "import matplotlib.pyplot as plt\n",
    "import scipy.stats as stats\n",
    "import numpy as np"
   ]
  },
  {
   "cell_type": "markdown",
   "metadata": {
    "nteract": {
     "transient": {
      "deleting": false
     }
    }
   },
   "source": [
    "## Task 1: Read data and undestand it's structure\n",
    "\n",
    "### 1a. Load training dataset (in `./data/train.csv`) and display 5 random rows\n",
    "\n",
    "Hint: Use `.style` attribute to display all columns\n",
    "\n",
    "Hint: See  `./data/data_description.txt` for documentation of variables"
   ]
  },
  {
   "cell_type": "code",
   "execution_count": 13,
   "metadata": {
    "collapsed": false,
    "gather": {
     "logged": 1665932463360
    },
    "jupyter": {
     "outputs_hidden": false,
     "source_hidden": false
    },
    "nteract": {
     "transient": {
      "deleting": false
     }
    }
   },
   "outputs": [
    {
     "data": {
      "text/html": [
       "<div>\n",
       "<style scoped>\n",
       "    .dataframe tbody tr th:only-of-type {\n",
       "        vertical-align: middle;\n",
       "    }\n",
       "\n",
       "    .dataframe tbody tr th {\n",
       "        vertical-align: top;\n",
       "    }\n",
       "\n",
       "    .dataframe thead th {\n",
       "        text-align: right;\n",
       "    }\n",
       "</style>\n",
       "<table border=\"1\" class=\"dataframe\">\n",
       "  <thead>\n",
       "    <tr style=\"text-align: right;\">\n",
       "      <th></th>\n",
       "      <th>Id</th>\n",
       "      <th>MSSubClass</th>\n",
       "      <th>MSZoning</th>\n",
       "      <th>LotFrontage</th>\n",
       "      <th>LotArea</th>\n",
       "      <th>Street</th>\n",
       "      <th>Alley</th>\n",
       "      <th>LotShape</th>\n",
       "      <th>LandContour</th>\n",
       "      <th>Utilities</th>\n",
       "      <th>...</th>\n",
       "      <th>PoolArea</th>\n",
       "      <th>PoolQC</th>\n",
       "      <th>Fence</th>\n",
       "      <th>MiscFeature</th>\n",
       "      <th>MiscVal</th>\n",
       "      <th>MoSold</th>\n",
       "      <th>YrSold</th>\n",
       "      <th>SaleType</th>\n",
       "      <th>SaleCondition</th>\n",
       "      <th>SalePrice</th>\n",
       "    </tr>\n",
       "  </thead>\n",
       "  <tbody>\n",
       "    <tr>\n",
       "      <th>0</th>\n",
       "      <td>1</td>\n",
       "      <td>60</td>\n",
       "      <td>RL</td>\n",
       "      <td>65.0</td>\n",
       "      <td>8450</td>\n",
       "      <td>Pave</td>\n",
       "      <td>NaN</td>\n",
       "      <td>Reg</td>\n",
       "      <td>Lvl</td>\n",
       "      <td>AllPub</td>\n",
       "      <td>...</td>\n",
       "      <td>0</td>\n",
       "      <td>NaN</td>\n",
       "      <td>NaN</td>\n",
       "      <td>NaN</td>\n",
       "      <td>0</td>\n",
       "      <td>2</td>\n",
       "      <td>2008</td>\n",
       "      <td>WD</td>\n",
       "      <td>Normal</td>\n",
       "      <td>208500</td>\n",
       "    </tr>\n",
       "    <tr>\n",
       "      <th>1</th>\n",
       "      <td>2</td>\n",
       "      <td>20</td>\n",
       "      <td>RL</td>\n",
       "      <td>80.0</td>\n",
       "      <td>9600</td>\n",
       "      <td>Pave</td>\n",
       "      <td>NaN</td>\n",
       "      <td>Reg</td>\n",
       "      <td>Lvl</td>\n",
       "      <td>AllPub</td>\n",
       "      <td>...</td>\n",
       "      <td>0</td>\n",
       "      <td>NaN</td>\n",
       "      <td>NaN</td>\n",
       "      <td>NaN</td>\n",
       "      <td>0</td>\n",
       "      <td>5</td>\n",
       "      <td>2007</td>\n",
       "      <td>WD</td>\n",
       "      <td>Normal</td>\n",
       "      <td>181500</td>\n",
       "    </tr>\n",
       "    <tr>\n",
       "      <th>2</th>\n",
       "      <td>3</td>\n",
       "      <td>60</td>\n",
       "      <td>RL</td>\n",
       "      <td>68.0</td>\n",
       "      <td>11250</td>\n",
       "      <td>Pave</td>\n",
       "      <td>NaN</td>\n",
       "      <td>IR1</td>\n",
       "      <td>Lvl</td>\n",
       "      <td>AllPub</td>\n",
       "      <td>...</td>\n",
       "      <td>0</td>\n",
       "      <td>NaN</td>\n",
       "      <td>NaN</td>\n",
       "      <td>NaN</td>\n",
       "      <td>0</td>\n",
       "      <td>9</td>\n",
       "      <td>2008</td>\n",
       "      <td>WD</td>\n",
       "      <td>Normal</td>\n",
       "      <td>223500</td>\n",
       "    </tr>\n",
       "    <tr>\n",
       "      <th>3</th>\n",
       "      <td>4</td>\n",
       "      <td>70</td>\n",
       "      <td>RL</td>\n",
       "      <td>60.0</td>\n",
       "      <td>9550</td>\n",
       "      <td>Pave</td>\n",
       "      <td>NaN</td>\n",
       "      <td>IR1</td>\n",
       "      <td>Lvl</td>\n",
       "      <td>AllPub</td>\n",
       "      <td>...</td>\n",
       "      <td>0</td>\n",
       "      <td>NaN</td>\n",
       "      <td>NaN</td>\n",
       "      <td>NaN</td>\n",
       "      <td>0</td>\n",
       "      <td>2</td>\n",
       "      <td>2006</td>\n",
       "      <td>WD</td>\n",
       "      <td>Abnorml</td>\n",
       "      <td>140000</td>\n",
       "    </tr>\n",
       "    <tr>\n",
       "      <th>4</th>\n",
       "      <td>5</td>\n",
       "      <td>60</td>\n",
       "      <td>RL</td>\n",
       "      <td>84.0</td>\n",
       "      <td>14260</td>\n",
       "      <td>Pave</td>\n",
       "      <td>NaN</td>\n",
       "      <td>IR1</td>\n",
       "      <td>Lvl</td>\n",
       "      <td>AllPub</td>\n",
       "      <td>...</td>\n",
       "      <td>0</td>\n",
       "      <td>NaN</td>\n",
       "      <td>NaN</td>\n",
       "      <td>NaN</td>\n",
       "      <td>0</td>\n",
       "      <td>12</td>\n",
       "      <td>2008</td>\n",
       "      <td>WD</td>\n",
       "      <td>Normal</td>\n",
       "      <td>250000</td>\n",
       "    </tr>\n",
       "  </tbody>\n",
       "</table>\n",
       "<p>5 rows × 81 columns</p>\n",
       "</div>"
      ],
      "text/plain": [
       "   Id  MSSubClass MSZoning  LotFrontage  LotArea Street Alley LotShape  \\\n",
       "0   1          60       RL         65.0     8450   Pave   NaN      Reg   \n",
       "1   2          20       RL         80.0     9600   Pave   NaN      Reg   \n",
       "2   3          60       RL         68.0    11250   Pave   NaN      IR1   \n",
       "3   4          70       RL         60.0     9550   Pave   NaN      IR1   \n",
       "4   5          60       RL         84.0    14260   Pave   NaN      IR1   \n",
       "\n",
       "  LandContour Utilities  ... PoolArea PoolQC Fence MiscFeature MiscVal MoSold  \\\n",
       "0         Lvl    AllPub  ...        0    NaN   NaN         NaN       0      2   \n",
       "1         Lvl    AllPub  ...        0    NaN   NaN         NaN       0      5   \n",
       "2         Lvl    AllPub  ...        0    NaN   NaN         NaN       0      9   \n",
       "3         Lvl    AllPub  ...        0    NaN   NaN         NaN       0      2   \n",
       "4         Lvl    AllPub  ...        0    NaN   NaN         NaN       0     12   \n",
       "\n",
       "  YrSold  SaleType  SaleCondition  SalePrice  \n",
       "0   2008        WD         Normal     208500  \n",
       "1   2007        WD         Normal     181500  \n",
       "2   2008        WD         Normal     223500  \n",
       "3   2006        WD        Abnorml     140000  \n",
       "4   2008        WD         Normal     250000  \n",
       "\n",
       "[5 rows x 81 columns]"
      ]
     },
     "execution_count": 13,
     "metadata": {},
     "output_type": "execute_result"
    }
   ],
   "source": [
    "data = pd.read_csv('train.csv', sep = ',')\n",
    "data.head()"
   ]
  },
  {
   "cell_type": "code",
   "execution_count": 23,
   "metadata": {},
   "outputs": [
    {
     "data": {
      "text/html": [
       "<div>\n",
       "<style scoped>\n",
       "    .dataframe tbody tr th:only-of-type {\n",
       "        vertical-align: middle;\n",
       "    }\n",
       "\n",
       "    .dataframe tbody tr th {\n",
       "        vertical-align: top;\n",
       "    }\n",
       "\n",
       "    .dataframe thead th {\n",
       "        text-align: right;\n",
       "    }\n",
       "</style>\n",
       "<table border=\"1\" class=\"dataframe\">\n",
       "  <thead>\n",
       "    <tr style=\"text-align: right;\">\n",
       "      <th></th>\n",
       "      <th>Id</th>\n",
       "      <th>MSSubClass</th>\n",
       "      <th>MSZoning</th>\n",
       "      <th>LotFrontage</th>\n",
       "      <th>LotArea</th>\n",
       "      <th>Street</th>\n",
       "      <th>Alley</th>\n",
       "      <th>LotShape</th>\n",
       "      <th>LandContour</th>\n",
       "      <th>Utilities</th>\n",
       "      <th>...</th>\n",
       "      <th>PoolArea</th>\n",
       "      <th>PoolQC</th>\n",
       "      <th>Fence</th>\n",
       "      <th>MiscFeature</th>\n",
       "      <th>MiscVal</th>\n",
       "      <th>MoSold</th>\n",
       "      <th>YrSold</th>\n",
       "      <th>SaleType</th>\n",
       "      <th>SaleCondition</th>\n",
       "      <th>SalePrice</th>\n",
       "    </tr>\n",
       "  </thead>\n",
       "  <tbody>\n",
       "    <tr>\n",
       "      <th>1455</th>\n",
       "      <td>1456</td>\n",
       "      <td>60</td>\n",
       "      <td>RL</td>\n",
       "      <td>62.0</td>\n",
       "      <td>7917</td>\n",
       "      <td>Pave</td>\n",
       "      <td>NaN</td>\n",
       "      <td>Reg</td>\n",
       "      <td>Lvl</td>\n",
       "      <td>AllPub</td>\n",
       "      <td>...</td>\n",
       "      <td>0</td>\n",
       "      <td>NaN</td>\n",
       "      <td>NaN</td>\n",
       "      <td>NaN</td>\n",
       "      <td>0</td>\n",
       "      <td>8</td>\n",
       "      <td>2007</td>\n",
       "      <td>WD</td>\n",
       "      <td>Normal</td>\n",
       "      <td>175000</td>\n",
       "    </tr>\n",
       "    <tr>\n",
       "      <th>1456</th>\n",
       "      <td>1457</td>\n",
       "      <td>20</td>\n",
       "      <td>RL</td>\n",
       "      <td>85.0</td>\n",
       "      <td>13175</td>\n",
       "      <td>Pave</td>\n",
       "      <td>NaN</td>\n",
       "      <td>Reg</td>\n",
       "      <td>Lvl</td>\n",
       "      <td>AllPub</td>\n",
       "      <td>...</td>\n",
       "      <td>0</td>\n",
       "      <td>NaN</td>\n",
       "      <td>MnPrv</td>\n",
       "      <td>NaN</td>\n",
       "      <td>0</td>\n",
       "      <td>2</td>\n",
       "      <td>2010</td>\n",
       "      <td>WD</td>\n",
       "      <td>Normal</td>\n",
       "      <td>210000</td>\n",
       "    </tr>\n",
       "    <tr>\n",
       "      <th>1457</th>\n",
       "      <td>1458</td>\n",
       "      <td>70</td>\n",
       "      <td>RL</td>\n",
       "      <td>66.0</td>\n",
       "      <td>9042</td>\n",
       "      <td>Pave</td>\n",
       "      <td>NaN</td>\n",
       "      <td>Reg</td>\n",
       "      <td>Lvl</td>\n",
       "      <td>AllPub</td>\n",
       "      <td>...</td>\n",
       "      <td>0</td>\n",
       "      <td>NaN</td>\n",
       "      <td>GdPrv</td>\n",
       "      <td>Shed</td>\n",
       "      <td>2500</td>\n",
       "      <td>5</td>\n",
       "      <td>2010</td>\n",
       "      <td>WD</td>\n",
       "      <td>Normal</td>\n",
       "      <td>266500</td>\n",
       "    </tr>\n",
       "    <tr>\n",
       "      <th>1458</th>\n",
       "      <td>1459</td>\n",
       "      <td>20</td>\n",
       "      <td>RL</td>\n",
       "      <td>68.0</td>\n",
       "      <td>9717</td>\n",
       "      <td>Pave</td>\n",
       "      <td>NaN</td>\n",
       "      <td>Reg</td>\n",
       "      <td>Lvl</td>\n",
       "      <td>AllPub</td>\n",
       "      <td>...</td>\n",
       "      <td>0</td>\n",
       "      <td>NaN</td>\n",
       "      <td>NaN</td>\n",
       "      <td>NaN</td>\n",
       "      <td>0</td>\n",
       "      <td>4</td>\n",
       "      <td>2010</td>\n",
       "      <td>WD</td>\n",
       "      <td>Normal</td>\n",
       "      <td>142125</td>\n",
       "    </tr>\n",
       "    <tr>\n",
       "      <th>1459</th>\n",
       "      <td>1460</td>\n",
       "      <td>20</td>\n",
       "      <td>RL</td>\n",
       "      <td>75.0</td>\n",
       "      <td>9937</td>\n",
       "      <td>Pave</td>\n",
       "      <td>NaN</td>\n",
       "      <td>Reg</td>\n",
       "      <td>Lvl</td>\n",
       "      <td>AllPub</td>\n",
       "      <td>...</td>\n",
       "      <td>0</td>\n",
       "      <td>NaN</td>\n",
       "      <td>NaN</td>\n",
       "      <td>NaN</td>\n",
       "      <td>0</td>\n",
       "      <td>6</td>\n",
       "      <td>2008</td>\n",
       "      <td>WD</td>\n",
       "      <td>Normal</td>\n",
       "      <td>147500</td>\n",
       "    </tr>\n",
       "  </tbody>\n",
       "</table>\n",
       "<p>5 rows × 81 columns</p>\n",
       "</div>"
      ],
      "text/plain": [
       "        Id  MSSubClass MSZoning  LotFrontage  LotArea Street Alley LotShape  \\\n",
       "1455  1456          60       RL         62.0     7917   Pave   NaN      Reg   \n",
       "1456  1457          20       RL         85.0    13175   Pave   NaN      Reg   \n",
       "1457  1458          70       RL         66.0     9042   Pave   NaN      Reg   \n",
       "1458  1459          20       RL         68.0     9717   Pave   NaN      Reg   \n",
       "1459  1460          20       RL         75.0     9937   Pave   NaN      Reg   \n",
       "\n",
       "     LandContour Utilities  ... PoolArea PoolQC  Fence MiscFeature MiscVal  \\\n",
       "1455         Lvl    AllPub  ...        0    NaN    NaN         NaN       0   \n",
       "1456         Lvl    AllPub  ...        0    NaN  MnPrv         NaN       0   \n",
       "1457         Lvl    AllPub  ...        0    NaN  GdPrv        Shed    2500   \n",
       "1458         Lvl    AllPub  ...        0    NaN    NaN         NaN       0   \n",
       "1459         Lvl    AllPub  ...        0    NaN    NaN         NaN       0   \n",
       "\n",
       "     MoSold YrSold  SaleType  SaleCondition  SalePrice  \n",
       "1455      8   2007        WD         Normal     175000  \n",
       "1456      2   2010        WD         Normal     210000  \n",
       "1457      5   2010        WD         Normal     266500  \n",
       "1458      4   2010        WD         Normal     142125  \n",
       "1459      6   2008        WD         Normal     147500  \n",
       "\n",
       "[5 rows x 81 columns]"
      ]
     },
     "execution_count": 23,
     "metadata": {},
     "output_type": "execute_result"
    }
   ],
   "source": [
    "data.tail()"
   ]
  },
  {
   "cell_type": "code",
   "execution_count": 29,
   "metadata": {},
   "outputs": [
    {
     "data": {
      "text/html": [
       "<style type=\"text/css\">\n",
       "</style>\n",
       "<table id=\"T_239b6\">\n",
       "  <thead>\n",
       "    <tr>\n",
       "      <th class=\"blank level0\" >&nbsp;</th>\n",
       "      <th id=\"T_239b6_level0_col0\" class=\"col_heading level0 col0\" >Id</th>\n",
       "      <th id=\"T_239b6_level0_col1\" class=\"col_heading level0 col1\" >MSSubClass</th>\n",
       "      <th id=\"T_239b6_level0_col2\" class=\"col_heading level0 col2\" >MSZoning</th>\n",
       "      <th id=\"T_239b6_level0_col3\" class=\"col_heading level0 col3\" >LotFrontage</th>\n",
       "      <th id=\"T_239b6_level0_col4\" class=\"col_heading level0 col4\" >LotArea</th>\n",
       "      <th id=\"T_239b6_level0_col5\" class=\"col_heading level0 col5\" >Street</th>\n",
       "      <th id=\"T_239b6_level0_col6\" class=\"col_heading level0 col6\" >Alley</th>\n",
       "      <th id=\"T_239b6_level0_col7\" class=\"col_heading level0 col7\" >LotShape</th>\n",
       "      <th id=\"T_239b6_level0_col8\" class=\"col_heading level0 col8\" >LandContour</th>\n",
       "      <th id=\"T_239b6_level0_col9\" class=\"col_heading level0 col9\" >Utilities</th>\n",
       "      <th id=\"T_239b6_level0_col10\" class=\"col_heading level0 col10\" >LotConfig</th>\n",
       "      <th id=\"T_239b6_level0_col11\" class=\"col_heading level0 col11\" >LandSlope</th>\n",
       "      <th id=\"T_239b6_level0_col12\" class=\"col_heading level0 col12\" >Neighborhood</th>\n",
       "      <th id=\"T_239b6_level0_col13\" class=\"col_heading level0 col13\" >Condition1</th>\n",
       "      <th id=\"T_239b6_level0_col14\" class=\"col_heading level0 col14\" >Condition2</th>\n",
       "      <th id=\"T_239b6_level0_col15\" class=\"col_heading level0 col15\" >BldgType</th>\n",
       "      <th id=\"T_239b6_level0_col16\" class=\"col_heading level0 col16\" >HouseStyle</th>\n",
       "      <th id=\"T_239b6_level0_col17\" class=\"col_heading level0 col17\" >OverallQual</th>\n",
       "      <th id=\"T_239b6_level0_col18\" class=\"col_heading level0 col18\" >OverallCond</th>\n",
       "      <th id=\"T_239b6_level0_col19\" class=\"col_heading level0 col19\" >YearBuilt</th>\n",
       "      <th id=\"T_239b6_level0_col20\" class=\"col_heading level0 col20\" >YearRemodAdd</th>\n",
       "      <th id=\"T_239b6_level0_col21\" class=\"col_heading level0 col21\" >RoofStyle</th>\n",
       "      <th id=\"T_239b6_level0_col22\" class=\"col_heading level0 col22\" >RoofMatl</th>\n",
       "      <th id=\"T_239b6_level0_col23\" class=\"col_heading level0 col23\" >Exterior1st</th>\n",
       "      <th id=\"T_239b6_level0_col24\" class=\"col_heading level0 col24\" >Exterior2nd</th>\n",
       "      <th id=\"T_239b6_level0_col25\" class=\"col_heading level0 col25\" >MasVnrType</th>\n",
       "      <th id=\"T_239b6_level0_col26\" class=\"col_heading level0 col26\" >MasVnrArea</th>\n",
       "      <th id=\"T_239b6_level0_col27\" class=\"col_heading level0 col27\" >ExterQual</th>\n",
       "      <th id=\"T_239b6_level0_col28\" class=\"col_heading level0 col28\" >ExterCond</th>\n",
       "      <th id=\"T_239b6_level0_col29\" class=\"col_heading level0 col29\" >Foundation</th>\n",
       "      <th id=\"T_239b6_level0_col30\" class=\"col_heading level0 col30\" >BsmtQual</th>\n",
       "      <th id=\"T_239b6_level0_col31\" class=\"col_heading level0 col31\" >BsmtCond</th>\n",
       "      <th id=\"T_239b6_level0_col32\" class=\"col_heading level0 col32\" >BsmtExposure</th>\n",
       "      <th id=\"T_239b6_level0_col33\" class=\"col_heading level0 col33\" >BsmtFinType1</th>\n",
       "      <th id=\"T_239b6_level0_col34\" class=\"col_heading level0 col34\" >BsmtFinSF1</th>\n",
       "      <th id=\"T_239b6_level0_col35\" class=\"col_heading level0 col35\" >BsmtFinType2</th>\n",
       "      <th id=\"T_239b6_level0_col36\" class=\"col_heading level0 col36\" >BsmtFinSF2</th>\n",
       "      <th id=\"T_239b6_level0_col37\" class=\"col_heading level0 col37\" >BsmtUnfSF</th>\n",
       "      <th id=\"T_239b6_level0_col38\" class=\"col_heading level0 col38\" >TotalBsmtSF</th>\n",
       "      <th id=\"T_239b6_level0_col39\" class=\"col_heading level0 col39\" >Heating</th>\n",
       "      <th id=\"T_239b6_level0_col40\" class=\"col_heading level0 col40\" >HeatingQC</th>\n",
       "      <th id=\"T_239b6_level0_col41\" class=\"col_heading level0 col41\" >CentralAir</th>\n",
       "      <th id=\"T_239b6_level0_col42\" class=\"col_heading level0 col42\" >Electrical</th>\n",
       "      <th id=\"T_239b6_level0_col43\" class=\"col_heading level0 col43\" >1stFlrSF</th>\n",
       "      <th id=\"T_239b6_level0_col44\" class=\"col_heading level0 col44\" >2ndFlrSF</th>\n",
       "      <th id=\"T_239b6_level0_col45\" class=\"col_heading level0 col45\" >LowQualFinSF</th>\n",
       "      <th id=\"T_239b6_level0_col46\" class=\"col_heading level0 col46\" >GrLivArea</th>\n",
       "      <th id=\"T_239b6_level0_col47\" class=\"col_heading level0 col47\" >BsmtFullBath</th>\n",
       "      <th id=\"T_239b6_level0_col48\" class=\"col_heading level0 col48\" >BsmtHalfBath</th>\n",
       "      <th id=\"T_239b6_level0_col49\" class=\"col_heading level0 col49\" >FullBath</th>\n",
       "      <th id=\"T_239b6_level0_col50\" class=\"col_heading level0 col50\" >HalfBath</th>\n",
       "      <th id=\"T_239b6_level0_col51\" class=\"col_heading level0 col51\" >BedroomAbvGr</th>\n",
       "      <th id=\"T_239b6_level0_col52\" class=\"col_heading level0 col52\" >KitchenAbvGr</th>\n",
       "      <th id=\"T_239b6_level0_col53\" class=\"col_heading level0 col53\" >KitchenQual</th>\n",
       "      <th id=\"T_239b6_level0_col54\" class=\"col_heading level0 col54\" >TotRmsAbvGrd</th>\n",
       "      <th id=\"T_239b6_level0_col55\" class=\"col_heading level0 col55\" >Functional</th>\n",
       "      <th id=\"T_239b6_level0_col56\" class=\"col_heading level0 col56\" >Fireplaces</th>\n",
       "      <th id=\"T_239b6_level0_col57\" class=\"col_heading level0 col57\" >FireplaceQu</th>\n",
       "      <th id=\"T_239b6_level0_col58\" class=\"col_heading level0 col58\" >GarageType</th>\n",
       "      <th id=\"T_239b6_level0_col59\" class=\"col_heading level0 col59\" >GarageYrBlt</th>\n",
       "      <th id=\"T_239b6_level0_col60\" class=\"col_heading level0 col60\" >GarageFinish</th>\n",
       "      <th id=\"T_239b6_level0_col61\" class=\"col_heading level0 col61\" >GarageCars</th>\n",
       "      <th id=\"T_239b6_level0_col62\" class=\"col_heading level0 col62\" >GarageArea</th>\n",
       "      <th id=\"T_239b6_level0_col63\" class=\"col_heading level0 col63\" >GarageQual</th>\n",
       "      <th id=\"T_239b6_level0_col64\" class=\"col_heading level0 col64\" >GarageCond</th>\n",
       "      <th id=\"T_239b6_level0_col65\" class=\"col_heading level0 col65\" >PavedDrive</th>\n",
       "      <th id=\"T_239b6_level0_col66\" class=\"col_heading level0 col66\" >WoodDeckSF</th>\n",
       "      <th id=\"T_239b6_level0_col67\" class=\"col_heading level0 col67\" >OpenPorchSF</th>\n",
       "      <th id=\"T_239b6_level0_col68\" class=\"col_heading level0 col68\" >EnclosedPorch</th>\n",
       "      <th id=\"T_239b6_level0_col69\" class=\"col_heading level0 col69\" >3SsnPorch</th>\n",
       "      <th id=\"T_239b6_level0_col70\" class=\"col_heading level0 col70\" >ScreenPorch</th>\n",
       "      <th id=\"T_239b6_level0_col71\" class=\"col_heading level0 col71\" >PoolArea</th>\n",
       "      <th id=\"T_239b6_level0_col72\" class=\"col_heading level0 col72\" >PoolQC</th>\n",
       "      <th id=\"T_239b6_level0_col73\" class=\"col_heading level0 col73\" >Fence</th>\n",
       "      <th id=\"T_239b6_level0_col74\" class=\"col_heading level0 col74\" >MiscFeature</th>\n",
       "      <th id=\"T_239b6_level0_col75\" class=\"col_heading level0 col75\" >MiscVal</th>\n",
       "      <th id=\"T_239b6_level0_col76\" class=\"col_heading level0 col76\" >MoSold</th>\n",
       "      <th id=\"T_239b6_level0_col77\" class=\"col_heading level0 col77\" >YrSold</th>\n",
       "      <th id=\"T_239b6_level0_col78\" class=\"col_heading level0 col78\" >SaleType</th>\n",
       "      <th id=\"T_239b6_level0_col79\" class=\"col_heading level0 col79\" >SaleCondition</th>\n",
       "      <th id=\"T_239b6_level0_col80\" class=\"col_heading level0 col80\" >SalePrice</th>\n",
       "    </tr>\n",
       "  </thead>\n",
       "  <tbody>\n",
       "    <tr>\n",
       "      <th id=\"T_239b6_level0_row0\" class=\"row_heading level0 row0\" >939</th>\n",
       "      <td id=\"T_239b6_row0_col0\" class=\"data row0 col0\" >940</td>\n",
       "      <td id=\"T_239b6_row0_col1\" class=\"data row0 col1\" >70</td>\n",
       "      <td id=\"T_239b6_row0_col2\" class=\"data row0 col2\" >RL</td>\n",
       "      <td id=\"T_239b6_row0_col3\" class=\"data row0 col3\" >nan</td>\n",
       "      <td id=\"T_239b6_row0_col4\" class=\"data row0 col4\" >24090</td>\n",
       "      <td id=\"T_239b6_row0_col5\" class=\"data row0 col5\" >Pave</td>\n",
       "      <td id=\"T_239b6_row0_col6\" class=\"data row0 col6\" >nan</td>\n",
       "      <td id=\"T_239b6_row0_col7\" class=\"data row0 col7\" >Reg</td>\n",
       "      <td id=\"T_239b6_row0_col8\" class=\"data row0 col8\" >Lvl</td>\n",
       "      <td id=\"T_239b6_row0_col9\" class=\"data row0 col9\" >AllPub</td>\n",
       "      <td id=\"T_239b6_row0_col10\" class=\"data row0 col10\" >Inside</td>\n",
       "      <td id=\"T_239b6_row0_col11\" class=\"data row0 col11\" >Gtl</td>\n",
       "      <td id=\"T_239b6_row0_col12\" class=\"data row0 col12\" >ClearCr</td>\n",
       "      <td id=\"T_239b6_row0_col13\" class=\"data row0 col13\" >Norm</td>\n",
       "      <td id=\"T_239b6_row0_col14\" class=\"data row0 col14\" >Norm</td>\n",
       "      <td id=\"T_239b6_row0_col15\" class=\"data row0 col15\" >1Fam</td>\n",
       "      <td id=\"T_239b6_row0_col16\" class=\"data row0 col16\" >2Story</td>\n",
       "      <td id=\"T_239b6_row0_col17\" class=\"data row0 col17\" >7</td>\n",
       "      <td id=\"T_239b6_row0_col18\" class=\"data row0 col18\" >7</td>\n",
       "      <td id=\"T_239b6_row0_col19\" class=\"data row0 col19\" >1940</td>\n",
       "      <td id=\"T_239b6_row0_col20\" class=\"data row0 col20\" >1950</td>\n",
       "      <td id=\"T_239b6_row0_col21\" class=\"data row0 col21\" >Gable</td>\n",
       "      <td id=\"T_239b6_row0_col22\" class=\"data row0 col22\" >CompShg</td>\n",
       "      <td id=\"T_239b6_row0_col23\" class=\"data row0 col23\" >MetalSd</td>\n",
       "      <td id=\"T_239b6_row0_col24\" class=\"data row0 col24\" >MetalSd</td>\n",
       "      <td id=\"T_239b6_row0_col25\" class=\"data row0 col25\" >nan</td>\n",
       "      <td id=\"T_239b6_row0_col26\" class=\"data row0 col26\" >0.000000</td>\n",
       "      <td id=\"T_239b6_row0_col27\" class=\"data row0 col27\" >TA</td>\n",
       "      <td id=\"T_239b6_row0_col28\" class=\"data row0 col28\" >Gd</td>\n",
       "      <td id=\"T_239b6_row0_col29\" class=\"data row0 col29\" >CBlock</td>\n",
       "      <td id=\"T_239b6_row0_col30\" class=\"data row0 col30\" >TA</td>\n",
       "      <td id=\"T_239b6_row0_col31\" class=\"data row0 col31\" >TA</td>\n",
       "      <td id=\"T_239b6_row0_col32\" class=\"data row0 col32\" >Mn</td>\n",
       "      <td id=\"T_239b6_row0_col33\" class=\"data row0 col33\" >Unf</td>\n",
       "      <td id=\"T_239b6_row0_col34\" class=\"data row0 col34\" >0</td>\n",
       "      <td id=\"T_239b6_row0_col35\" class=\"data row0 col35\" >Unf</td>\n",
       "      <td id=\"T_239b6_row0_col36\" class=\"data row0 col36\" >0</td>\n",
       "      <td id=\"T_239b6_row0_col37\" class=\"data row0 col37\" >1032</td>\n",
       "      <td id=\"T_239b6_row0_col38\" class=\"data row0 col38\" >1032</td>\n",
       "      <td id=\"T_239b6_row0_col39\" class=\"data row0 col39\" >GasA</td>\n",
       "      <td id=\"T_239b6_row0_col40\" class=\"data row0 col40\" >Ex</td>\n",
       "      <td id=\"T_239b6_row0_col41\" class=\"data row0 col41\" >Y</td>\n",
       "      <td id=\"T_239b6_row0_col42\" class=\"data row0 col42\" >SBrkr</td>\n",
       "      <td id=\"T_239b6_row0_col43\" class=\"data row0 col43\" >1207</td>\n",
       "      <td id=\"T_239b6_row0_col44\" class=\"data row0 col44\" >1196</td>\n",
       "      <td id=\"T_239b6_row0_col45\" class=\"data row0 col45\" >0</td>\n",
       "      <td id=\"T_239b6_row0_col46\" class=\"data row0 col46\" >2403</td>\n",
       "      <td id=\"T_239b6_row0_col47\" class=\"data row0 col47\" >0</td>\n",
       "      <td id=\"T_239b6_row0_col48\" class=\"data row0 col48\" >0</td>\n",
       "      <td id=\"T_239b6_row0_col49\" class=\"data row0 col49\" >2</td>\n",
       "      <td id=\"T_239b6_row0_col50\" class=\"data row0 col50\" >0</td>\n",
       "      <td id=\"T_239b6_row0_col51\" class=\"data row0 col51\" >4</td>\n",
       "      <td id=\"T_239b6_row0_col52\" class=\"data row0 col52\" >1</td>\n",
       "      <td id=\"T_239b6_row0_col53\" class=\"data row0 col53\" >TA</td>\n",
       "      <td id=\"T_239b6_row0_col54\" class=\"data row0 col54\" >10</td>\n",
       "      <td id=\"T_239b6_row0_col55\" class=\"data row0 col55\" >Typ</td>\n",
       "      <td id=\"T_239b6_row0_col56\" class=\"data row0 col56\" >2</td>\n",
       "      <td id=\"T_239b6_row0_col57\" class=\"data row0 col57\" >TA</td>\n",
       "      <td id=\"T_239b6_row0_col58\" class=\"data row0 col58\" >Attchd</td>\n",
       "      <td id=\"T_239b6_row0_col59\" class=\"data row0 col59\" >1940.000000</td>\n",
       "      <td id=\"T_239b6_row0_col60\" class=\"data row0 col60\" >Unf</td>\n",
       "      <td id=\"T_239b6_row0_col61\" class=\"data row0 col61\" >1</td>\n",
       "      <td id=\"T_239b6_row0_col62\" class=\"data row0 col62\" >349</td>\n",
       "      <td id=\"T_239b6_row0_col63\" class=\"data row0 col63\" >TA</td>\n",
       "      <td id=\"T_239b6_row0_col64\" class=\"data row0 col64\" >TA</td>\n",
       "      <td id=\"T_239b6_row0_col65\" class=\"data row0 col65\" >Y</td>\n",
       "      <td id=\"T_239b6_row0_col66\" class=\"data row0 col66\" >56</td>\n",
       "      <td id=\"T_239b6_row0_col67\" class=\"data row0 col67\" >0</td>\n",
       "      <td id=\"T_239b6_row0_col68\" class=\"data row0 col68\" >318</td>\n",
       "      <td id=\"T_239b6_row0_col69\" class=\"data row0 col69\" >0</td>\n",
       "      <td id=\"T_239b6_row0_col70\" class=\"data row0 col70\" >0</td>\n",
       "      <td id=\"T_239b6_row0_col71\" class=\"data row0 col71\" >0</td>\n",
       "      <td id=\"T_239b6_row0_col72\" class=\"data row0 col72\" >nan</td>\n",
       "      <td id=\"T_239b6_row0_col73\" class=\"data row0 col73\" >nan</td>\n",
       "      <td id=\"T_239b6_row0_col74\" class=\"data row0 col74\" >nan</td>\n",
       "      <td id=\"T_239b6_row0_col75\" class=\"data row0 col75\" >0</td>\n",
       "      <td id=\"T_239b6_row0_col76\" class=\"data row0 col76\" >6</td>\n",
       "      <td id=\"T_239b6_row0_col77\" class=\"data row0 col77\" >2010</td>\n",
       "      <td id=\"T_239b6_row0_col78\" class=\"data row0 col78\" >COD</td>\n",
       "      <td id=\"T_239b6_row0_col79\" class=\"data row0 col79\" >Normal</td>\n",
       "      <td id=\"T_239b6_row0_col80\" class=\"data row0 col80\" >244400</td>\n",
       "    </tr>\n",
       "    <tr>\n",
       "      <th id=\"T_239b6_level0_row1\" class=\"row_heading level0 row1\" >770</th>\n",
       "      <td id=\"T_239b6_row1_col0\" class=\"data row1 col0\" >771</td>\n",
       "      <td id=\"T_239b6_row1_col1\" class=\"data row1 col1\" >85</td>\n",
       "      <td id=\"T_239b6_row1_col2\" class=\"data row1 col2\" >RL</td>\n",
       "      <td id=\"T_239b6_row1_col3\" class=\"data row1 col3\" >nan</td>\n",
       "      <td id=\"T_239b6_row1_col4\" class=\"data row1 col4\" >7252</td>\n",
       "      <td id=\"T_239b6_row1_col5\" class=\"data row1 col5\" >Pave</td>\n",
       "      <td id=\"T_239b6_row1_col6\" class=\"data row1 col6\" >nan</td>\n",
       "      <td id=\"T_239b6_row1_col7\" class=\"data row1 col7\" >IR1</td>\n",
       "      <td id=\"T_239b6_row1_col8\" class=\"data row1 col8\" >Lvl</td>\n",
       "      <td id=\"T_239b6_row1_col9\" class=\"data row1 col9\" >AllPub</td>\n",
       "      <td id=\"T_239b6_row1_col10\" class=\"data row1 col10\" >CulDSac</td>\n",
       "      <td id=\"T_239b6_row1_col11\" class=\"data row1 col11\" >Gtl</td>\n",
       "      <td id=\"T_239b6_row1_col12\" class=\"data row1 col12\" >Sawyer</td>\n",
       "      <td id=\"T_239b6_row1_col13\" class=\"data row1 col13\" >Norm</td>\n",
       "      <td id=\"T_239b6_row1_col14\" class=\"data row1 col14\" >Norm</td>\n",
       "      <td id=\"T_239b6_row1_col15\" class=\"data row1 col15\" >1Fam</td>\n",
       "      <td id=\"T_239b6_row1_col16\" class=\"data row1 col16\" >SFoyer</td>\n",
       "      <td id=\"T_239b6_row1_col17\" class=\"data row1 col17\" >5</td>\n",
       "      <td id=\"T_239b6_row1_col18\" class=\"data row1 col18\" >5</td>\n",
       "      <td id=\"T_239b6_row1_col19\" class=\"data row1 col19\" >1982</td>\n",
       "      <td id=\"T_239b6_row1_col20\" class=\"data row1 col20\" >1982</td>\n",
       "      <td id=\"T_239b6_row1_col21\" class=\"data row1 col21\" >Hip</td>\n",
       "      <td id=\"T_239b6_row1_col22\" class=\"data row1 col22\" >CompShg</td>\n",
       "      <td id=\"T_239b6_row1_col23\" class=\"data row1 col23\" >Wd Sdng</td>\n",
       "      <td id=\"T_239b6_row1_col24\" class=\"data row1 col24\" >Wd Sdng</td>\n",
       "      <td id=\"T_239b6_row1_col25\" class=\"data row1 col25\" >nan</td>\n",
       "      <td id=\"T_239b6_row1_col26\" class=\"data row1 col26\" >0.000000</td>\n",
       "      <td id=\"T_239b6_row1_col27\" class=\"data row1 col27\" >TA</td>\n",
       "      <td id=\"T_239b6_row1_col28\" class=\"data row1 col28\" >TA</td>\n",
       "      <td id=\"T_239b6_row1_col29\" class=\"data row1 col29\" >CBlock</td>\n",
       "      <td id=\"T_239b6_row1_col30\" class=\"data row1 col30\" >Gd</td>\n",
       "      <td id=\"T_239b6_row1_col31\" class=\"data row1 col31\" >TA</td>\n",
       "      <td id=\"T_239b6_row1_col32\" class=\"data row1 col32\" >Av</td>\n",
       "      <td id=\"T_239b6_row1_col33\" class=\"data row1 col33\" >GLQ</td>\n",
       "      <td id=\"T_239b6_row1_col34\" class=\"data row1 col34\" >685</td>\n",
       "      <td id=\"T_239b6_row1_col35\" class=\"data row1 col35\" >Unf</td>\n",
       "      <td id=\"T_239b6_row1_col36\" class=\"data row1 col36\" >0</td>\n",
       "      <td id=\"T_239b6_row1_col37\" class=\"data row1 col37\" >173</td>\n",
       "      <td id=\"T_239b6_row1_col38\" class=\"data row1 col38\" >858</td>\n",
       "      <td id=\"T_239b6_row1_col39\" class=\"data row1 col39\" >GasA</td>\n",
       "      <td id=\"T_239b6_row1_col40\" class=\"data row1 col40\" >TA</td>\n",
       "      <td id=\"T_239b6_row1_col41\" class=\"data row1 col41\" >Y</td>\n",
       "      <td id=\"T_239b6_row1_col42\" class=\"data row1 col42\" >SBrkr</td>\n",
       "      <td id=\"T_239b6_row1_col43\" class=\"data row1 col43\" >858</td>\n",
       "      <td id=\"T_239b6_row1_col44\" class=\"data row1 col44\" >0</td>\n",
       "      <td id=\"T_239b6_row1_col45\" class=\"data row1 col45\" >0</td>\n",
       "      <td id=\"T_239b6_row1_col46\" class=\"data row1 col46\" >858</td>\n",
       "      <td id=\"T_239b6_row1_col47\" class=\"data row1 col47\" >1</td>\n",
       "      <td id=\"T_239b6_row1_col48\" class=\"data row1 col48\" >0</td>\n",
       "      <td id=\"T_239b6_row1_col49\" class=\"data row1 col49\" >1</td>\n",
       "      <td id=\"T_239b6_row1_col50\" class=\"data row1 col50\" >0</td>\n",
       "      <td id=\"T_239b6_row1_col51\" class=\"data row1 col51\" >2</td>\n",
       "      <td id=\"T_239b6_row1_col52\" class=\"data row1 col52\" >1</td>\n",
       "      <td id=\"T_239b6_row1_col53\" class=\"data row1 col53\" >TA</td>\n",
       "      <td id=\"T_239b6_row1_col54\" class=\"data row1 col54\" >5</td>\n",
       "      <td id=\"T_239b6_row1_col55\" class=\"data row1 col55\" >Typ</td>\n",
       "      <td id=\"T_239b6_row1_col56\" class=\"data row1 col56\" >0</td>\n",
       "      <td id=\"T_239b6_row1_col57\" class=\"data row1 col57\" >nan</td>\n",
       "      <td id=\"T_239b6_row1_col58\" class=\"data row1 col58\" >Detchd</td>\n",
       "      <td id=\"T_239b6_row1_col59\" class=\"data row1 col59\" >1983.000000</td>\n",
       "      <td id=\"T_239b6_row1_col60\" class=\"data row1 col60\" >Unf</td>\n",
       "      <td id=\"T_239b6_row1_col61\" class=\"data row1 col61\" >2</td>\n",
       "      <td id=\"T_239b6_row1_col62\" class=\"data row1 col62\" >576</td>\n",
       "      <td id=\"T_239b6_row1_col63\" class=\"data row1 col63\" >TA</td>\n",
       "      <td id=\"T_239b6_row1_col64\" class=\"data row1 col64\" >TA</td>\n",
       "      <td id=\"T_239b6_row1_col65\" class=\"data row1 col65\" >Y</td>\n",
       "      <td id=\"T_239b6_row1_col66\" class=\"data row1 col66\" >120</td>\n",
       "      <td id=\"T_239b6_row1_col67\" class=\"data row1 col67\" >0</td>\n",
       "      <td id=\"T_239b6_row1_col68\" class=\"data row1 col68\" >0</td>\n",
       "      <td id=\"T_239b6_row1_col69\" class=\"data row1 col69\" >0</td>\n",
       "      <td id=\"T_239b6_row1_col70\" class=\"data row1 col70\" >0</td>\n",
       "      <td id=\"T_239b6_row1_col71\" class=\"data row1 col71\" >0</td>\n",
       "      <td id=\"T_239b6_row1_col72\" class=\"data row1 col72\" >nan</td>\n",
       "      <td id=\"T_239b6_row1_col73\" class=\"data row1 col73\" >nan</td>\n",
       "      <td id=\"T_239b6_row1_col74\" class=\"data row1 col74\" >nan</td>\n",
       "      <td id=\"T_239b6_row1_col75\" class=\"data row1 col75\" >0</td>\n",
       "      <td id=\"T_239b6_row1_col76\" class=\"data row1 col76\" >4</td>\n",
       "      <td id=\"T_239b6_row1_col77\" class=\"data row1 col77\" >2009</td>\n",
       "      <td id=\"T_239b6_row1_col78\" class=\"data row1 col78\" >WD</td>\n",
       "      <td id=\"T_239b6_row1_col79\" class=\"data row1 col79\" >Normal</td>\n",
       "      <td id=\"T_239b6_row1_col80\" class=\"data row1 col80\" >134900</td>\n",
       "    </tr>\n",
       "    <tr>\n",
       "      <th id=\"T_239b6_level0_row2\" class=\"row_heading level0 row2\" >234</th>\n",
       "      <td id=\"T_239b6_row2_col0\" class=\"data row2 col0\" >235</td>\n",
       "      <td id=\"T_239b6_row2_col1\" class=\"data row2 col1\" >60</td>\n",
       "      <td id=\"T_239b6_row2_col2\" class=\"data row2 col2\" >RL</td>\n",
       "      <td id=\"T_239b6_row2_col3\" class=\"data row2 col3\" >nan</td>\n",
       "      <td id=\"T_239b6_row2_col4\" class=\"data row2 col4\" >7851</td>\n",
       "      <td id=\"T_239b6_row2_col5\" class=\"data row2 col5\" >Pave</td>\n",
       "      <td id=\"T_239b6_row2_col6\" class=\"data row2 col6\" >nan</td>\n",
       "      <td id=\"T_239b6_row2_col7\" class=\"data row2 col7\" >Reg</td>\n",
       "      <td id=\"T_239b6_row2_col8\" class=\"data row2 col8\" >Lvl</td>\n",
       "      <td id=\"T_239b6_row2_col9\" class=\"data row2 col9\" >AllPub</td>\n",
       "      <td id=\"T_239b6_row2_col10\" class=\"data row2 col10\" >Inside</td>\n",
       "      <td id=\"T_239b6_row2_col11\" class=\"data row2 col11\" >Gtl</td>\n",
       "      <td id=\"T_239b6_row2_col12\" class=\"data row2 col12\" >Gilbert</td>\n",
       "      <td id=\"T_239b6_row2_col13\" class=\"data row2 col13\" >Norm</td>\n",
       "      <td id=\"T_239b6_row2_col14\" class=\"data row2 col14\" >Norm</td>\n",
       "      <td id=\"T_239b6_row2_col15\" class=\"data row2 col15\" >1Fam</td>\n",
       "      <td id=\"T_239b6_row2_col16\" class=\"data row2 col16\" >2Story</td>\n",
       "      <td id=\"T_239b6_row2_col17\" class=\"data row2 col17\" >6</td>\n",
       "      <td id=\"T_239b6_row2_col18\" class=\"data row2 col18\" >5</td>\n",
       "      <td id=\"T_239b6_row2_col19\" class=\"data row2 col19\" >2002</td>\n",
       "      <td id=\"T_239b6_row2_col20\" class=\"data row2 col20\" >2002</td>\n",
       "      <td id=\"T_239b6_row2_col21\" class=\"data row2 col21\" >Gable</td>\n",
       "      <td id=\"T_239b6_row2_col22\" class=\"data row2 col22\" >CompShg</td>\n",
       "      <td id=\"T_239b6_row2_col23\" class=\"data row2 col23\" >VinylSd</td>\n",
       "      <td id=\"T_239b6_row2_col24\" class=\"data row2 col24\" >VinylSd</td>\n",
       "      <td id=\"T_239b6_row2_col25\" class=\"data row2 col25\" >nan</td>\n",
       "      <td id=\"T_239b6_row2_col26\" class=\"data row2 col26\" >nan</td>\n",
       "      <td id=\"T_239b6_row2_col27\" class=\"data row2 col27\" >Gd</td>\n",
       "      <td id=\"T_239b6_row2_col28\" class=\"data row2 col28\" >TA</td>\n",
       "      <td id=\"T_239b6_row2_col29\" class=\"data row2 col29\" >PConc</td>\n",
       "      <td id=\"T_239b6_row2_col30\" class=\"data row2 col30\" >Gd</td>\n",
       "      <td id=\"T_239b6_row2_col31\" class=\"data row2 col31\" >TA</td>\n",
       "      <td id=\"T_239b6_row2_col32\" class=\"data row2 col32\" >No</td>\n",
       "      <td id=\"T_239b6_row2_col33\" class=\"data row2 col33\" >GLQ</td>\n",
       "      <td id=\"T_239b6_row2_col34\" class=\"data row2 col34\" >625</td>\n",
       "      <td id=\"T_239b6_row2_col35\" class=\"data row2 col35\" >Unf</td>\n",
       "      <td id=\"T_239b6_row2_col36\" class=\"data row2 col36\" >0</td>\n",
       "      <td id=\"T_239b6_row2_col37\" class=\"data row2 col37\" >235</td>\n",
       "      <td id=\"T_239b6_row2_col38\" class=\"data row2 col38\" >860</td>\n",
       "      <td id=\"T_239b6_row2_col39\" class=\"data row2 col39\" >GasA</td>\n",
       "      <td id=\"T_239b6_row2_col40\" class=\"data row2 col40\" >Ex</td>\n",
       "      <td id=\"T_239b6_row2_col41\" class=\"data row2 col41\" >Y</td>\n",
       "      <td id=\"T_239b6_row2_col42\" class=\"data row2 col42\" >SBrkr</td>\n",
       "      <td id=\"T_239b6_row2_col43\" class=\"data row2 col43\" >860</td>\n",
       "      <td id=\"T_239b6_row2_col44\" class=\"data row2 col44\" >1100</td>\n",
       "      <td id=\"T_239b6_row2_col45\" class=\"data row2 col45\" >0</td>\n",
       "      <td id=\"T_239b6_row2_col46\" class=\"data row2 col46\" >1960</td>\n",
       "      <td id=\"T_239b6_row2_col47\" class=\"data row2 col47\" >1</td>\n",
       "      <td id=\"T_239b6_row2_col48\" class=\"data row2 col48\" >0</td>\n",
       "      <td id=\"T_239b6_row2_col49\" class=\"data row2 col49\" >2</td>\n",
       "      <td id=\"T_239b6_row2_col50\" class=\"data row2 col50\" >1</td>\n",
       "      <td id=\"T_239b6_row2_col51\" class=\"data row2 col51\" >4</td>\n",
       "      <td id=\"T_239b6_row2_col52\" class=\"data row2 col52\" >1</td>\n",
       "      <td id=\"T_239b6_row2_col53\" class=\"data row2 col53\" >Gd</td>\n",
       "      <td id=\"T_239b6_row2_col54\" class=\"data row2 col54\" >8</td>\n",
       "      <td id=\"T_239b6_row2_col55\" class=\"data row2 col55\" >Typ</td>\n",
       "      <td id=\"T_239b6_row2_col56\" class=\"data row2 col56\" >2</td>\n",
       "      <td id=\"T_239b6_row2_col57\" class=\"data row2 col57\" >TA</td>\n",
       "      <td id=\"T_239b6_row2_col58\" class=\"data row2 col58\" >BuiltIn</td>\n",
       "      <td id=\"T_239b6_row2_col59\" class=\"data row2 col59\" >2002.000000</td>\n",
       "      <td id=\"T_239b6_row2_col60\" class=\"data row2 col60\" >Fin</td>\n",
       "      <td id=\"T_239b6_row2_col61\" class=\"data row2 col61\" >2</td>\n",
       "      <td id=\"T_239b6_row2_col62\" class=\"data row2 col62\" >440</td>\n",
       "      <td id=\"T_239b6_row2_col63\" class=\"data row2 col63\" >TA</td>\n",
       "      <td id=\"T_239b6_row2_col64\" class=\"data row2 col64\" >TA</td>\n",
       "      <td id=\"T_239b6_row2_col65\" class=\"data row2 col65\" >Y</td>\n",
       "      <td id=\"T_239b6_row2_col66\" class=\"data row2 col66\" >288</td>\n",
       "      <td id=\"T_239b6_row2_col67\" class=\"data row2 col67\" >48</td>\n",
       "      <td id=\"T_239b6_row2_col68\" class=\"data row2 col68\" >0</td>\n",
       "      <td id=\"T_239b6_row2_col69\" class=\"data row2 col69\" >0</td>\n",
       "      <td id=\"T_239b6_row2_col70\" class=\"data row2 col70\" >0</td>\n",
       "      <td id=\"T_239b6_row2_col71\" class=\"data row2 col71\" >0</td>\n",
       "      <td id=\"T_239b6_row2_col72\" class=\"data row2 col72\" >nan</td>\n",
       "      <td id=\"T_239b6_row2_col73\" class=\"data row2 col73\" >nan</td>\n",
       "      <td id=\"T_239b6_row2_col74\" class=\"data row2 col74\" >nan</td>\n",
       "      <td id=\"T_239b6_row2_col75\" class=\"data row2 col75\" >0</td>\n",
       "      <td id=\"T_239b6_row2_col76\" class=\"data row2 col76\" >5</td>\n",
       "      <td id=\"T_239b6_row2_col77\" class=\"data row2 col77\" >2010</td>\n",
       "      <td id=\"T_239b6_row2_col78\" class=\"data row2 col78\" >WD</td>\n",
       "      <td id=\"T_239b6_row2_col79\" class=\"data row2 col79\" >Normal</td>\n",
       "      <td id=\"T_239b6_row2_col80\" class=\"data row2 col80\" >216500</td>\n",
       "    </tr>\n",
       "    <tr>\n",
       "      <th id=\"T_239b6_level0_row3\" class=\"row_heading level0 row3\" >1048</th>\n",
       "      <td id=\"T_239b6_row3_col0\" class=\"data row3 col0\" >1049</td>\n",
       "      <td id=\"T_239b6_row3_col1\" class=\"data row3 col1\" >20</td>\n",
       "      <td id=\"T_239b6_row3_col2\" class=\"data row3 col2\" >RL</td>\n",
       "      <td id=\"T_239b6_row3_col3\" class=\"data row3 col3\" >100.000000</td>\n",
       "      <td id=\"T_239b6_row3_col4\" class=\"data row3 col4\" >21750</td>\n",
       "      <td id=\"T_239b6_row3_col5\" class=\"data row3 col5\" >Pave</td>\n",
       "      <td id=\"T_239b6_row3_col6\" class=\"data row3 col6\" >nan</td>\n",
       "      <td id=\"T_239b6_row3_col7\" class=\"data row3 col7\" >Reg</td>\n",
       "      <td id=\"T_239b6_row3_col8\" class=\"data row3 col8\" >Lvl</td>\n",
       "      <td id=\"T_239b6_row3_col9\" class=\"data row3 col9\" >AllPub</td>\n",
       "      <td id=\"T_239b6_row3_col10\" class=\"data row3 col10\" >Inside</td>\n",
       "      <td id=\"T_239b6_row3_col11\" class=\"data row3 col11\" >Gtl</td>\n",
       "      <td id=\"T_239b6_row3_col12\" class=\"data row3 col12\" >Mitchel</td>\n",
       "      <td id=\"T_239b6_row3_col13\" class=\"data row3 col13\" >Norm</td>\n",
       "      <td id=\"T_239b6_row3_col14\" class=\"data row3 col14\" >Norm</td>\n",
       "      <td id=\"T_239b6_row3_col15\" class=\"data row3 col15\" >1Fam</td>\n",
       "      <td id=\"T_239b6_row3_col16\" class=\"data row3 col16\" >1Story</td>\n",
       "      <td id=\"T_239b6_row3_col17\" class=\"data row3 col17\" >5</td>\n",
       "      <td id=\"T_239b6_row3_col18\" class=\"data row3 col18\" >4</td>\n",
       "      <td id=\"T_239b6_row3_col19\" class=\"data row3 col19\" >1960</td>\n",
       "      <td id=\"T_239b6_row3_col20\" class=\"data row3 col20\" >2006</td>\n",
       "      <td id=\"T_239b6_row3_col21\" class=\"data row3 col21\" >Hip</td>\n",
       "      <td id=\"T_239b6_row3_col22\" class=\"data row3 col22\" >CompShg</td>\n",
       "      <td id=\"T_239b6_row3_col23\" class=\"data row3 col23\" >HdBoard</td>\n",
       "      <td id=\"T_239b6_row3_col24\" class=\"data row3 col24\" >HdBoard</td>\n",
       "      <td id=\"T_239b6_row3_col25\" class=\"data row3 col25\" >BrkFace</td>\n",
       "      <td id=\"T_239b6_row3_col26\" class=\"data row3 col26\" >75.000000</td>\n",
       "      <td id=\"T_239b6_row3_col27\" class=\"data row3 col27\" >TA</td>\n",
       "      <td id=\"T_239b6_row3_col28\" class=\"data row3 col28\" >Fa</td>\n",
       "      <td id=\"T_239b6_row3_col29\" class=\"data row3 col29\" >Slab</td>\n",
       "      <td id=\"T_239b6_row3_col30\" class=\"data row3 col30\" >nan</td>\n",
       "      <td id=\"T_239b6_row3_col31\" class=\"data row3 col31\" >nan</td>\n",
       "      <td id=\"T_239b6_row3_col32\" class=\"data row3 col32\" >nan</td>\n",
       "      <td id=\"T_239b6_row3_col33\" class=\"data row3 col33\" >nan</td>\n",
       "      <td id=\"T_239b6_row3_col34\" class=\"data row3 col34\" >0</td>\n",
       "      <td id=\"T_239b6_row3_col35\" class=\"data row3 col35\" >nan</td>\n",
       "      <td id=\"T_239b6_row3_col36\" class=\"data row3 col36\" >0</td>\n",
       "      <td id=\"T_239b6_row3_col37\" class=\"data row3 col37\" >0</td>\n",
       "      <td id=\"T_239b6_row3_col38\" class=\"data row3 col38\" >0</td>\n",
       "      <td id=\"T_239b6_row3_col39\" class=\"data row3 col39\" >GasA</td>\n",
       "      <td id=\"T_239b6_row3_col40\" class=\"data row3 col40\" >TA</td>\n",
       "      <td id=\"T_239b6_row3_col41\" class=\"data row3 col41\" >Y</td>\n",
       "      <td id=\"T_239b6_row3_col42\" class=\"data row3 col42\" >SBrkr</td>\n",
       "      <td id=\"T_239b6_row3_col43\" class=\"data row3 col43\" >1771</td>\n",
       "      <td id=\"T_239b6_row3_col44\" class=\"data row3 col44\" >0</td>\n",
       "      <td id=\"T_239b6_row3_col45\" class=\"data row3 col45\" >0</td>\n",
       "      <td id=\"T_239b6_row3_col46\" class=\"data row3 col46\" >1771</td>\n",
       "      <td id=\"T_239b6_row3_col47\" class=\"data row3 col47\" >0</td>\n",
       "      <td id=\"T_239b6_row3_col48\" class=\"data row3 col48\" >0</td>\n",
       "      <td id=\"T_239b6_row3_col49\" class=\"data row3 col49\" >1</td>\n",
       "      <td id=\"T_239b6_row3_col50\" class=\"data row3 col50\" >0</td>\n",
       "      <td id=\"T_239b6_row3_col51\" class=\"data row3 col51\" >3</td>\n",
       "      <td id=\"T_239b6_row3_col52\" class=\"data row3 col52\" >1</td>\n",
       "      <td id=\"T_239b6_row3_col53\" class=\"data row3 col53\" >TA</td>\n",
       "      <td id=\"T_239b6_row3_col54\" class=\"data row3 col54\" >9</td>\n",
       "      <td id=\"T_239b6_row3_col55\" class=\"data row3 col55\" >Min1</td>\n",
       "      <td id=\"T_239b6_row3_col56\" class=\"data row3 col56\" >1</td>\n",
       "      <td id=\"T_239b6_row3_col57\" class=\"data row3 col57\" >TA</td>\n",
       "      <td id=\"T_239b6_row3_col58\" class=\"data row3 col58\" >Attchd</td>\n",
       "      <td id=\"T_239b6_row3_col59\" class=\"data row3 col59\" >1960.000000</td>\n",
       "      <td id=\"T_239b6_row3_col60\" class=\"data row3 col60\" >Unf</td>\n",
       "      <td id=\"T_239b6_row3_col61\" class=\"data row3 col61\" >2</td>\n",
       "      <td id=\"T_239b6_row3_col62\" class=\"data row3 col62\" >336</td>\n",
       "      <td id=\"T_239b6_row3_col63\" class=\"data row3 col63\" >TA</td>\n",
       "      <td id=\"T_239b6_row3_col64\" class=\"data row3 col64\" >TA</td>\n",
       "      <td id=\"T_239b6_row3_col65\" class=\"data row3 col65\" >Y</td>\n",
       "      <td id=\"T_239b6_row3_col66\" class=\"data row3 col66\" >0</td>\n",
       "      <td id=\"T_239b6_row3_col67\" class=\"data row3 col67\" >0</td>\n",
       "      <td id=\"T_239b6_row3_col68\" class=\"data row3 col68\" >0</td>\n",
       "      <td id=\"T_239b6_row3_col69\" class=\"data row3 col69\" >0</td>\n",
       "      <td id=\"T_239b6_row3_col70\" class=\"data row3 col70\" >0</td>\n",
       "      <td id=\"T_239b6_row3_col71\" class=\"data row3 col71\" >0</td>\n",
       "      <td id=\"T_239b6_row3_col72\" class=\"data row3 col72\" >nan</td>\n",
       "      <td id=\"T_239b6_row3_col73\" class=\"data row3 col73\" >GdPrv</td>\n",
       "      <td id=\"T_239b6_row3_col74\" class=\"data row3 col74\" >nan</td>\n",
       "      <td id=\"T_239b6_row3_col75\" class=\"data row3 col75\" >0</td>\n",
       "      <td id=\"T_239b6_row3_col76\" class=\"data row3 col76\" >11</td>\n",
       "      <td id=\"T_239b6_row3_col77\" class=\"data row3 col77\" >2009</td>\n",
       "      <td id=\"T_239b6_row3_col78\" class=\"data row3 col78\" >WD</td>\n",
       "      <td id=\"T_239b6_row3_col79\" class=\"data row3 col79\" >Normal</td>\n",
       "      <td id=\"T_239b6_row3_col80\" class=\"data row3 col80\" >115000</td>\n",
       "    </tr>\n",
       "    <tr>\n",
       "      <th id=\"T_239b6_level0_row4\" class=\"row_heading level0 row4\" >321</th>\n",
       "      <td id=\"T_239b6_row4_col0\" class=\"data row4 col0\" >322</td>\n",
       "      <td id=\"T_239b6_row4_col1\" class=\"data row4 col1\" >60</td>\n",
       "      <td id=\"T_239b6_row4_col2\" class=\"data row4 col2\" >RL</td>\n",
       "      <td id=\"T_239b6_row4_col3\" class=\"data row4 col3\" >99.000000</td>\n",
       "      <td id=\"T_239b6_row4_col4\" class=\"data row4 col4\" >12099</td>\n",
       "      <td id=\"T_239b6_row4_col5\" class=\"data row4 col5\" >Pave</td>\n",
       "      <td id=\"T_239b6_row4_col6\" class=\"data row4 col6\" >nan</td>\n",
       "      <td id=\"T_239b6_row4_col7\" class=\"data row4 col7\" >IR1</td>\n",
       "      <td id=\"T_239b6_row4_col8\" class=\"data row4 col8\" >Lvl</td>\n",
       "      <td id=\"T_239b6_row4_col9\" class=\"data row4 col9\" >AllPub</td>\n",
       "      <td id=\"T_239b6_row4_col10\" class=\"data row4 col10\" >Inside</td>\n",
       "      <td id=\"T_239b6_row4_col11\" class=\"data row4 col11\" >Gtl</td>\n",
       "      <td id=\"T_239b6_row4_col12\" class=\"data row4 col12\" >NridgHt</td>\n",
       "      <td id=\"T_239b6_row4_col13\" class=\"data row4 col13\" >Norm</td>\n",
       "      <td id=\"T_239b6_row4_col14\" class=\"data row4 col14\" >Norm</td>\n",
       "      <td id=\"T_239b6_row4_col15\" class=\"data row4 col15\" >1Fam</td>\n",
       "      <td id=\"T_239b6_row4_col16\" class=\"data row4 col16\" >2Story</td>\n",
       "      <td id=\"T_239b6_row4_col17\" class=\"data row4 col17\" >8</td>\n",
       "      <td id=\"T_239b6_row4_col18\" class=\"data row4 col18\" >5</td>\n",
       "      <td id=\"T_239b6_row4_col19\" class=\"data row4 col19\" >2004</td>\n",
       "      <td id=\"T_239b6_row4_col20\" class=\"data row4 col20\" >2004</td>\n",
       "      <td id=\"T_239b6_row4_col21\" class=\"data row4 col21\" >Gable</td>\n",
       "      <td id=\"T_239b6_row4_col22\" class=\"data row4 col22\" >CompShg</td>\n",
       "      <td id=\"T_239b6_row4_col23\" class=\"data row4 col23\" >VinylSd</td>\n",
       "      <td id=\"T_239b6_row4_col24\" class=\"data row4 col24\" >VinylSd</td>\n",
       "      <td id=\"T_239b6_row4_col25\" class=\"data row4 col25\" >BrkFace</td>\n",
       "      <td id=\"T_239b6_row4_col26\" class=\"data row4 col26\" >388.000000</td>\n",
       "      <td id=\"T_239b6_row4_col27\" class=\"data row4 col27\" >Gd</td>\n",
       "      <td id=\"T_239b6_row4_col28\" class=\"data row4 col28\" >TA</td>\n",
       "      <td id=\"T_239b6_row4_col29\" class=\"data row4 col29\" >PConc</td>\n",
       "      <td id=\"T_239b6_row4_col30\" class=\"data row4 col30\" >Ex</td>\n",
       "      <td id=\"T_239b6_row4_col31\" class=\"data row4 col31\" >TA</td>\n",
       "      <td id=\"T_239b6_row4_col32\" class=\"data row4 col32\" >Av</td>\n",
       "      <td id=\"T_239b6_row4_col33\" class=\"data row4 col33\" >GLQ</td>\n",
       "      <td id=\"T_239b6_row4_col34\" class=\"data row4 col34\" >970</td>\n",
       "      <td id=\"T_239b6_row4_col35\" class=\"data row4 col35\" >Unf</td>\n",
       "      <td id=\"T_239b6_row4_col36\" class=\"data row4 col36\" >0</td>\n",
       "      <td id=\"T_239b6_row4_col37\" class=\"data row4 col37\" >166</td>\n",
       "      <td id=\"T_239b6_row4_col38\" class=\"data row4 col38\" >1136</td>\n",
       "      <td id=\"T_239b6_row4_col39\" class=\"data row4 col39\" >GasA</td>\n",
       "      <td id=\"T_239b6_row4_col40\" class=\"data row4 col40\" >Ex</td>\n",
       "      <td id=\"T_239b6_row4_col41\" class=\"data row4 col41\" >Y</td>\n",
       "      <td id=\"T_239b6_row4_col42\" class=\"data row4 col42\" >SBrkr</td>\n",
       "      <td id=\"T_239b6_row4_col43\" class=\"data row4 col43\" >1136</td>\n",
       "      <td id=\"T_239b6_row4_col44\" class=\"data row4 col44\" >1332</td>\n",
       "      <td id=\"T_239b6_row4_col45\" class=\"data row4 col45\" >0</td>\n",
       "      <td id=\"T_239b6_row4_col46\" class=\"data row4 col46\" >2468</td>\n",
       "      <td id=\"T_239b6_row4_col47\" class=\"data row4 col47\" >1</td>\n",
       "      <td id=\"T_239b6_row4_col48\" class=\"data row4 col48\" >0</td>\n",
       "      <td id=\"T_239b6_row4_col49\" class=\"data row4 col49\" >2</td>\n",
       "      <td id=\"T_239b6_row4_col50\" class=\"data row4 col50\" >1</td>\n",
       "      <td id=\"T_239b6_row4_col51\" class=\"data row4 col51\" >4</td>\n",
       "      <td id=\"T_239b6_row4_col52\" class=\"data row4 col52\" >1</td>\n",
       "      <td id=\"T_239b6_row4_col53\" class=\"data row4 col53\" >Gd</td>\n",
       "      <td id=\"T_239b6_row4_col54\" class=\"data row4 col54\" >10</td>\n",
       "      <td id=\"T_239b6_row4_col55\" class=\"data row4 col55\" >Typ</td>\n",
       "      <td id=\"T_239b6_row4_col56\" class=\"data row4 col56\" >1</td>\n",
       "      <td id=\"T_239b6_row4_col57\" class=\"data row4 col57\" >Gd</td>\n",
       "      <td id=\"T_239b6_row4_col58\" class=\"data row4 col58\" >BuiltIn</td>\n",
       "      <td id=\"T_239b6_row4_col59\" class=\"data row4 col59\" >2004.000000</td>\n",
       "      <td id=\"T_239b6_row4_col60\" class=\"data row4 col60\" >Fin</td>\n",
       "      <td id=\"T_239b6_row4_col61\" class=\"data row4 col61\" >3</td>\n",
       "      <td id=\"T_239b6_row4_col62\" class=\"data row4 col62\" >872</td>\n",
       "      <td id=\"T_239b6_row4_col63\" class=\"data row4 col63\" >TA</td>\n",
       "      <td id=\"T_239b6_row4_col64\" class=\"data row4 col64\" >TA</td>\n",
       "      <td id=\"T_239b6_row4_col65\" class=\"data row4 col65\" >Y</td>\n",
       "      <td id=\"T_239b6_row4_col66\" class=\"data row4 col66\" >184</td>\n",
       "      <td id=\"T_239b6_row4_col67\" class=\"data row4 col67\" >154</td>\n",
       "      <td id=\"T_239b6_row4_col68\" class=\"data row4 col68\" >0</td>\n",
       "      <td id=\"T_239b6_row4_col69\" class=\"data row4 col69\" >0</td>\n",
       "      <td id=\"T_239b6_row4_col70\" class=\"data row4 col70\" >0</td>\n",
       "      <td id=\"T_239b6_row4_col71\" class=\"data row4 col71\" >0</td>\n",
       "      <td id=\"T_239b6_row4_col72\" class=\"data row4 col72\" >nan</td>\n",
       "      <td id=\"T_239b6_row4_col73\" class=\"data row4 col73\" >nan</td>\n",
       "      <td id=\"T_239b6_row4_col74\" class=\"data row4 col74\" >nan</td>\n",
       "      <td id=\"T_239b6_row4_col75\" class=\"data row4 col75\" >0</td>\n",
       "      <td id=\"T_239b6_row4_col76\" class=\"data row4 col76\" >6</td>\n",
       "      <td id=\"T_239b6_row4_col77\" class=\"data row4 col77\" >2007</td>\n",
       "      <td id=\"T_239b6_row4_col78\" class=\"data row4 col78\" >WD</td>\n",
       "      <td id=\"T_239b6_row4_col79\" class=\"data row4 col79\" >Normal</td>\n",
       "      <td id=\"T_239b6_row4_col80\" class=\"data row4 col80\" >354000</td>\n",
       "    </tr>\n",
       "  </tbody>\n",
       "</table>\n"
      ],
      "text/plain": [
       "<pandas.io.formats.style.Styler at 0x10ff418d8b0>"
      ]
     },
     "execution_count": 29,
     "metadata": {},
     "output_type": "execute_result"
    }
   ],
   "source": [
    "data.sample(5).style #random and style for displaying all columns"
   ]
  },
  {
   "cell_type": "markdown",
   "metadata": {
    "nteract": {
     "transient": {
      "deleting": false
     }
    }
   },
   "source": [
    "### 1b. What is the distribution `SalePrice` variable?\n",
    "\n",
    "* plot histogram (`.hist()` on `pd.Series`) with bin width $10,000\n",
    "\n",
    "Hint: Specify bins using range"
   ]
  },
  {
   "cell_type": "code",
   "execution_count": 33,
   "metadata": {
    "tags": []
   },
   "outputs": [
    {
     "data": {
      "text/plain": [
       "<Axes: >"
      ]
     },
     "execution_count": 33,
     "metadata": {},
     "output_type": "execute_result"
    },
    {
     "data": {
      "image/png": "[encoded data removed]",
      "text/plain": [
       "<Figure size 640x480 with 1 Axes>"
      ]
     },
     "metadata": {},
     "output_type": "display_data"
    }
   ],
   "source": [
    "SalePrice = data['SalePrice']\n",
    "#SalePrice.hist(bins = int((SalePrice.max() - SalePrice.min()) / 10000) + 1 ,range = (SalePrice.min(), SalePrice.max()))\n",
    "SalePrice.hist(bins = range(0,SalePrice.max(), 10000))"
   ]
  },
  {
   "cell_type": "code",
   "execution_count": null,
   "metadata": {
    "collapsed": false,
    "gather": {
     "logged": 1665932220142
    },
    "jupyter": {
     "outputs_hidden": false,
     "source_hidden": false
    },
    "nteract": {
     "transient": {
      "deleting": false
     }
    },
    "tags": []
   },
   "outputs": [],
   "source": []
  },
  {
   "cell_type": "markdown",
   "metadata": {
    "nteract": {
     "transient": {
      "deleting": false
     }
    }
   },
   "source": [
    "### 1c. Split columns between quantitative and qualitative variables\n",
    "Store column names in separate lists of strings `quantitative` and `qualitative`\n",
    "\n",
    "Hint: `.dtypes` attribute contains a series with strings describing dtype of the data"
   ]
  },
  {
   "cell_type": "code",
   "execution_count": 34,
   "metadata": {
    "tags": []
   },
   "outputs": [
    {
     "data": {
      "text/plain": [
       "Id                 int64\n",
       "MSSubClass         int64\n",
       "MSZoning          object\n",
       "LotFrontage      float64\n",
       "LotArea            int64\n",
       "                  ...   \n",
       "MoSold             int64\n",
       "YrSold             int64\n",
       "SaleType          object\n",
       "SaleCondition     object\n",
       "SalePrice          int64\n",
       "Length: 81, dtype: object"
      ]
     },
     "execution_count": 34,
     "metadata": {},
     "output_type": "execute_result"
    }
   ],
   "source": [
    "data.dtypes"
   ]
  },
  {
   "cell_type": "code",
   "execution_count": 35,
   "metadata": {
    "collapsed": false,
    "gather": {
     "logged": 1665932487403
    },
    "jupyter": {
     "outputs_hidden": false,
     "source_hidden": false
    },
    "nteract": {
     "transient": {
      "deleting": false
     }
    },
    "tags": []
   },
   "outputs": [
    {
     "data": {
      "text/plain": [
       "Index(['Id', 'MSSubClass', 'MSZoning', 'LotFrontage', 'LotArea', 'Street',\n",
       "       'Alley', 'LotShape', 'LandContour', 'Utilities', 'LotConfig',\n",
       "       'LandSlope', 'Neighborhood', 'Condition1', 'Condition2', 'BldgType',\n",
       "       'HouseStyle', 'OverallQual', 'OverallCond', 'YearBuilt', 'YearRemodAdd',\n",
       "       'RoofStyle', 'RoofMatl', 'Exterior1st', 'Exterior2nd', 'MasVnrType',\n",
       "       'MasVnrArea', 'ExterQual', 'ExterCond', 'Foundation', 'BsmtQual',\n",
       "       'BsmtCond', 'BsmtExposure', 'BsmtFinType1', 'BsmtFinSF1',\n",
       "       'BsmtFinType2', 'BsmtFinSF2', 'BsmtUnfSF', 'TotalBsmtSF', 'Heating',\n",
       "       'HeatingQC', 'CentralAir', 'Electrical', '1stFlrSF', '2ndFlrSF',\n",
       "       'LowQualFinSF', 'GrLivArea', 'BsmtFullBath', 'BsmtHalfBath', 'FullBath',\n",
       "       'HalfBath', 'BedroomAbvGr', 'KitchenAbvGr', 'KitchenQual',\n",
       "       'TotRmsAbvGrd', 'Functional', 'Fireplaces', 'FireplaceQu', 'GarageType',\n",
       "       'GarageYrBlt', 'GarageFinish', 'GarageCars', 'GarageArea', 'GarageQual',\n",
       "       'GarageCond', 'PavedDrive', 'WoodDeckSF', 'OpenPorchSF',\n",
       "       'EnclosedPorch', '3SsnPorch', 'ScreenPorch', 'PoolArea', 'PoolQC',\n",
       "       'Fence', 'MiscFeature', 'MiscVal', 'MoSold', 'YrSold', 'SaleType',\n",
       "       'SaleCondition', 'SalePrice'],\n",
       "      dtype='object')"
      ]
     },
     "execution_count": 35,
     "metadata": {},
     "output_type": "execute_result"
    }
   ],
   "source": [
    "data.columns"
   ]
  },
  {
   "cell_type": "markdown",
   "metadata": {
    "tags": []
   },
   "source": [
    "### 1c* displace df with only quantitative columns"
   ]
  },
  {
   "cell_type": "code",
   "execution_count": 47,
   "metadata": {
    "tags": []
   },
   "outputs": [
    {
     "data": {
      "text/html": [
       "<div>\n",
       "<style scoped>\n",
       "    .dataframe tbody tr th:only-of-type {\n",
       "        vertical-align: middle;\n",
       "    }\n",
       "\n",
       "    .dataframe tbody tr th {\n",
       "        vertical-align: top;\n",
       "    }\n",
       "\n",
       "    .dataframe thead th {\n",
       "        text-align: right;\n",
       "    }\n",
       "</style>\n",
       "<table border=\"1\" class=\"dataframe\">\n",
       "  <thead>\n",
       "    <tr style=\"text-align: right;\">\n",
       "      <th></th>\n",
       "      <th>Id</th>\n",
       "      <th>MSSubClass</th>\n",
       "      <th>LotFrontage</th>\n",
       "      <th>LotArea</th>\n",
       "      <th>OverallQual</th>\n",
       "      <th>OverallCond</th>\n",
       "      <th>YearBuilt</th>\n",
       "      <th>YearRemodAdd</th>\n",
       "      <th>MasVnrArea</th>\n",
       "      <th>BsmtFinSF1</th>\n",
       "      <th>...</th>\n",
       "      <th>WoodDeckSF</th>\n",
       "      <th>OpenPorchSF</th>\n",
       "      <th>EnclosedPorch</th>\n",
       "      <th>3SsnPorch</th>\n",
       "      <th>ScreenPorch</th>\n",
       "      <th>PoolArea</th>\n",
       "      <th>MiscVal</th>\n",
       "      <th>MoSold</th>\n",
       "      <th>YrSold</th>\n",
       "      <th>SalePrice</th>\n",
       "    </tr>\n",
       "  </thead>\n",
       "  <tbody>\n",
       "    <tr>\n",
       "      <th>0</th>\n",
       "      <td>1</td>\n",
       "      <td>60</td>\n",
       "      <td>65.0</td>\n",
       "      <td>8450</td>\n",
       "      <td>7</td>\n",
       "      <td>5</td>\n",
       "      <td>2003</td>\n",
       "      <td>2003</td>\n",
       "      <td>196.0</td>\n",
       "      <td>706</td>\n",
       "      <td>...</td>\n",
       "      <td>0</td>\n",
       "      <td>61</td>\n",
       "      <td>0</td>\n",
       "      <td>0</td>\n",
       "      <td>0</td>\n",
       "      <td>0</td>\n",
       "      <td>0</td>\n",
       "      <td>2</td>\n",
       "      <td>2008</td>\n",
       "      <td>208500</td>\n",
       "    </tr>\n",
       "    <tr>\n",
       "      <th>1</th>\n",
       "      <td>2</td>\n",
       "      <td>20</td>\n",
       "      <td>80.0</td>\n",
       "      <td>9600</td>\n",
       "      <td>6</td>\n",
       "      <td>8</td>\n",
       "      <td>1976</td>\n",
       "      <td>1976</td>\n",
       "      <td>0.0</td>\n",
       "      <td>978</td>\n",
       "      <td>...</td>\n",
       "      <td>298</td>\n",
       "      <td>0</td>\n",
       "      <td>0</td>\n",
       "      <td>0</td>\n",
       "      <td>0</td>\n",
       "      <td>0</td>\n",
       "      <td>0</td>\n",
       "      <td>5</td>\n",
       "      <td>2007</td>\n",
       "      <td>181500</td>\n",
       "    </tr>\n",
       "    <tr>\n",
       "      <th>2</th>\n",
       "      <td>3</td>\n",
       "      <td>60</td>\n",
       "      <td>68.0</td>\n",
       "      <td>11250</td>\n",
       "      <td>7</td>\n",
       "      <td>5</td>\n",
       "      <td>2001</td>\n",
       "      <td>2002</td>\n",
       "      <td>162.0</td>\n",
       "      <td>486</td>\n",
       "      <td>...</td>\n",
       "      <td>0</td>\n",
       "      <td>42</td>\n",
       "      <td>0</td>\n",
       "      <td>0</td>\n",
       "      <td>0</td>\n",
       "      <td>0</td>\n",
       "      <td>0</td>\n",
       "      <td>9</td>\n",
       "      <td>2008</td>\n",
       "      <td>223500</td>\n",
       "    </tr>\n",
       "    <tr>\n",
       "      <th>3</th>\n",
       "      <td>4</td>\n",
       "      <td>70</td>\n",
       "      <td>60.0</td>\n",
       "      <td>9550</td>\n",
       "      <td>7</td>\n",
       "      <td>5</td>\n",
       "      <td>1915</td>\n",
       "      <td>1970</td>\n",
       "      <td>0.0</td>\n",
       "      <td>216</td>\n",
       "      <td>...</td>\n",
       "      <td>0</td>\n",
       "      <td>35</td>\n",
       "      <td>272</td>\n",
       "      <td>0</td>\n",
       "      <td>0</td>\n",
       "      <td>0</td>\n",
       "      <td>0</td>\n",
       "      <td>2</td>\n",
       "      <td>2006</td>\n",
       "      <td>140000</td>\n",
       "    </tr>\n",
       "    <tr>\n",
       "      <th>4</th>\n",
       "      <td>5</td>\n",
       "      <td>60</td>\n",
       "      <td>84.0</td>\n",
       "      <td>14260</td>\n",
       "      <td>8</td>\n",
       "      <td>5</td>\n",
       "      <td>2000</td>\n",
       "      <td>2000</td>\n",
       "      <td>350.0</td>\n",
       "      <td>655</td>\n",
       "      <td>...</td>\n",
       "      <td>192</td>\n",
       "      <td>84</td>\n",
       "      <td>0</td>\n",
       "      <td>0</td>\n",
       "      <td>0</td>\n",
       "      <td>0</td>\n",
       "      <td>0</td>\n",
       "      <td>12</td>\n",
       "      <td>2008</td>\n",
       "      <td>250000</td>\n",
       "    </tr>\n",
       "    <tr>\n",
       "      <th>...</th>\n",
       "      <td>...</td>\n",
       "      <td>...</td>\n",
       "      <td>...</td>\n",
       "      <td>...</td>\n",
       "      <td>...</td>\n",
       "      <td>...</td>\n",
       "      <td>...</td>\n",
       "      <td>...</td>\n",
       "      <td>...</td>\n",
       "      <td>...</td>\n",
       "      <td>...</td>\n",
       "      <td>...</td>\n",
       "      <td>...</td>\n",
       "      <td>...</td>\n",
       "      <td>...</td>\n",
       "      <td>...</td>\n",
       "      <td>...</td>\n",
       "      <td>...</td>\n",
       "      <td>...</td>\n",
       "      <td>...</td>\n",
       "      <td>...</td>\n",
       "    </tr>\n",
       "    <tr>\n",
       "      <th>1455</th>\n",
       "      <td>1456</td>\n",
       "      <td>60</td>\n",
       "      <td>62.0</td>\n",
       "      <td>7917</td>\n",
       "      <td>6</td>\n",
       "      <td>5</td>\n",
       "      <td>1999</td>\n",
       "      <td>2000</td>\n",
       "      <td>0.0</td>\n",
       "      <td>0</td>\n",
       "      <td>...</td>\n",
       "      <td>0</td>\n",
       "      <td>40</td>\n",
       "      <td>0</td>\n",
       "      <td>0</td>\n",
       "      <td>0</td>\n",
       "      <td>0</td>\n",
       "      <td>0</td>\n",
       "      <td>8</td>\n",
       "      <td>2007</td>\n",
       "      <td>175000</td>\n",
       "    </tr>\n",
       "    <tr>\n",
       "      <th>1456</th>\n",
       "      <td>1457</td>\n",
       "      <td>20</td>\n",
       "      <td>85.0</td>\n",
       "      <td>13175</td>\n",
       "      <td>6</td>\n",
       "      <td>6</td>\n",
       "      <td>1978</td>\n",
       "      <td>1988</td>\n",
       "      <td>119.0</td>\n",
       "      <td>790</td>\n",
       "      <td>...</td>\n",
       "      <td>349</td>\n",
       "      <td>0</td>\n",
       "      <td>0</td>\n",
       "      <td>0</td>\n",
       "      <td>0</td>\n",
       "      <td>0</td>\n",
       "      <td>0</td>\n",
       "      <td>2</td>\n",
       "      <td>2010</td>\n",
       "      <td>210000</td>\n",
       "    </tr>\n",
       "    <tr>\n",
       "      <th>1457</th>\n",
       "      <td>1458</td>\n",
       "      <td>70</td>\n",
       "      <td>66.0</td>\n",
       "      <td>9042</td>\n",
       "      <td>7</td>\n",
       "      <td>9</td>\n",
       "      <td>1941</td>\n",
       "      <td>2006</td>\n",
       "      <td>0.0</td>\n",
       "      <td>275</td>\n",
       "      <td>...</td>\n",
       "      <td>0</td>\n",
       "      <td>60</td>\n",
       "      <td>0</td>\n",
       "      <td>0</td>\n",
       "      <td>0</td>\n",
       "      <td>0</td>\n",
       "      <td>2500</td>\n",
       "      <td>5</td>\n",
       "      <td>2010</td>\n",
       "      <td>266500</td>\n",
       "    </tr>\n",
       "    <tr>\n",
       "      <th>1458</th>\n",
       "      <td>1459</td>\n",
       "      <td>20</td>\n",
       "      <td>68.0</td>\n",
       "      <td>9717</td>\n",
       "      <td>5</td>\n",
       "      <td>6</td>\n",
       "      <td>1950</td>\n",
       "      <td>1996</td>\n",
       "      <td>0.0</td>\n",
       "      <td>49</td>\n",
       "      <td>...</td>\n",
       "      <td>366</td>\n",
       "      <td>0</td>\n",
       "      <td>112</td>\n",
       "      <td>0</td>\n",
       "      <td>0</td>\n",
       "      <td>0</td>\n",
       "      <td>0</td>\n",
       "      <td>4</td>\n",
       "      <td>2010</td>\n",
       "      <td>142125</td>\n",
       "    </tr>\n",
       "    <tr>\n",
       "      <th>1459</th>\n",
       "      <td>1460</td>\n",
       "      <td>20</td>\n",
       "      <td>75.0</td>\n",
       "      <td>9937</td>\n",
       "      <td>5</td>\n",
       "      <td>6</td>\n",
       "      <td>1965</td>\n",
       "      <td>1965</td>\n",
       "      <td>0.0</td>\n",
       "      <td>830</td>\n",
       "      <td>...</td>\n",
       "      <td>736</td>\n",
       "      <td>68</td>\n",
       "      <td>0</td>\n",
       "      <td>0</td>\n",
       "      <td>0</td>\n",
       "      <td>0</td>\n",
       "      <td>0</td>\n",
       "      <td>6</td>\n",
       "      <td>2008</td>\n",
       "      <td>147500</td>\n",
       "    </tr>\n",
       "  </tbody>\n",
       "</table>\n",
       "<p>1460 rows × 38 columns</p>\n",
       "</div>"
      ],
      "text/plain": [
       "        Id  MSSubClass  LotFrontage  LotArea  OverallQual  OverallCond  \\\n",
       "0        1          60         65.0     8450            7            5   \n",
       "1        2          20         80.0     9600            6            8   \n",
       "2        3          60         68.0    11250            7            5   \n",
       "3        4          70         60.0     9550            7            5   \n",
       "4        5          60         84.0    14260            8            5   \n",
       "...    ...         ...          ...      ...          ...          ...   \n",
       "1455  1456          60         62.0     7917            6            5   \n",
       "1456  1457          20         85.0    13175            6            6   \n",
       "1457  1458          70         66.0     9042            7            9   \n",
       "1458  1459          20         68.0     9717            5            6   \n",
       "1459  1460          20         75.0     9937            5            6   \n",
       "\n",
       "      YearBuilt  YearRemodAdd  MasVnrArea  BsmtFinSF1  ...  WoodDeckSF  \\\n",
       "0          2003          2003       196.0         706  ...           0   \n",
       "1          1976          1976         0.0         978  ...         298   \n",
       "2          2001          2002       162.0         486  ...           0   \n",
       "3          1915          1970         0.0         216  ...           0   \n",
       "4          2000          2000       350.0         655  ...         192   \n",
       "...         ...           ...         ...         ...  ...         ...   \n",
       "1455       1999          2000         0.0           0  ...           0   \n",
       "1456       1978          1988       119.0         790  ...         349   \n",
       "1457       1941          2006         0.0         275  ...           0   \n",
       "1458       1950          1996         0.0          49  ...         366   \n",
       "1459       1965          1965         0.0         830  ...         736   \n",
       "\n",
       "      OpenPorchSF  EnclosedPorch  3SsnPorch  ScreenPorch  PoolArea  MiscVal  \\\n",
       "0              61              0          0            0         0        0   \n",
       "1               0              0          0            0         0        0   \n",
       "2              42              0          0            0         0        0   \n",
       "3              35            272          0            0         0        0   \n",
       "4              84              0          0            0         0        0   \n",
       "...           ...            ...        ...          ...       ...      ...   \n",
       "1455           40              0          0            0         0        0   \n",
       "1456            0              0          0            0         0        0   \n",
       "1457           60              0          0            0         0     2500   \n",
       "1458            0            112          0            0         0        0   \n",
       "1459           68              0          0            0         0        0   \n",
       "\n",
       "      MoSold  YrSold  SalePrice  \n",
       "0          2    2008     208500  \n",
       "1          5    2007     181500  \n",
       "2          9    2008     223500  \n",
       "3          2    2006     140000  \n",
       "4         12    2008     250000  \n",
       "...      ...     ...        ...  \n",
       "1455       8    2007     175000  \n",
       "1456       2    2010     210000  \n",
       "1457       5    2010     266500  \n",
       "1458       4    2010     142125  \n",
       "1459       6    2008     147500  \n",
       "\n",
       "[1460 rows x 38 columns]"
      ]
     },
     "execution_count": 47,
     "metadata": {},
     "output_type": "execute_result"
    }
   ],
   "source": [
    "data[quantitative]"
   ]
  },
  {
   "cell_type": "markdown",
   "metadata": {
    "nteract": {
     "transient": {
      "deleting": false
     }
    }
   },
   "source": [
    "### 1d. Are `dtype`s correct? \n",
    "\n",
    "* visually check whether all the columns look correctly parsed"
   ]
  },
  {
   "cell_type": "code",
   "execution_count": null,
   "metadata": {
    "collapsed": false,
    "gather": {
     "logged": 1665932227042
    },
    "jupyter": {
     "outputs_hidden": false,
     "source_hidden": false
    },
    "nteract": {
     "transient": {
      "deleting": false
     }
    }
   },
   "outputs": [],
   "source": []
  },
  {
   "cell_type": "code",
   "execution_count": null,
   "metadata": {
    "collapsed": false,
    "gather": {
     "logged": 1665932228725
    },
    "jupyter": {
     "outputs_hidden": false,
     "source_hidden": false
    },
    "nteract": {
     "transient": {
      "deleting": false
     }
    }
   },
   "outputs": [],
   "source": []
  },
  {
   "cell_type": "markdown",
   "metadata": {
    "nteract": {
     "transient": {
      "deleting": false
     }
    }
   },
   "source": [
    "### 1e. Plot number of missing data for all columns"
   ]
  },
  {
   "cell_type": "code",
   "execution_count": 54,
   "metadata": {
    "collapsed": false,
    "gather": {
     "logged": 1665932234934
    },
    "jupyter": {
     "outputs_hidden": false,
     "source_hidden": false
    },
    "nteract": {
     "transient": {
      "deleting": false
     }
    },
    "tags": []
   },
   "outputs": [
    {
     "data": {
      "text/plain": [
       "<Axes: >"
      ]
     },
     "execution_count": 54,
     "metadata": {},
     "output_type": "execute_result"
    },
    {
     "data": {
      "image/png": "[encoded data removed]",
      "text/plain": [
       "<Figure size 1500x500 with 1 Axes>"
      ]
     },
     "metadata": {},
     "output_type": "display_data"
    }
   ],
   "source": [
    "data.isna().sum().sort_values().plot.bar(figsize = (15,5))"
   ]
  },
  {
   "cell_type": "markdown",
   "metadata": {},
   "source": [
    "### For the better visiability drop columns with no missing data"
   ]
  },
  {
   "cell_type": "code",
   "execution_count": 62,
   "metadata": {
    "tags": []
   },
   "outputs": [
    {
     "data": {
      "text/plain": [
       "<Axes: >"
      ]
     },
     "execution_count": 62,
     "metadata": {},
     "output_type": "execute_result"
    },
    {
     "data": {
      "image/png": "[encoded data removed]",
      "text/plain": [
       "<Figure size 1500x500 with 1 Axes>"
      ]
     },
     "metadata": {},
     "output_type": "display_data"
    }
   ],
   "source": [
    "missing_values = [i for i in data.columns if data[i].isna().sum()>0]\n",
    "data[missing_values].isna().sum().sort_values().plot.bar(figsize = (15,5))"
   ]
  },
  {
   "cell_type": "code",
   "execution_count": null,
   "metadata": {
    "tags": []
   },
   "outputs": [],
   "source": []
  },
  {
   "cell_type": "markdown",
   "metadata": {
    "tags": []
   },
   "source": [
    "## Task 2: Aggregation"
   ]
  },
  {
   "cell_type": "markdown",
   "metadata": {},
   "source": [
    "### 2.1 Calculate the average LotArea for each year (YrSold)"
   ]
  },
  {
   "cell_type": "code",
   "execution_count": 63,
   "metadata": {
    "tags": []
   },
   "outputs": [
    {
     "data": {
      "text/plain": [
       "{'Abnorml', 'AdjLand', 'Alloca', 'Family', 'Normal', 'Partial'}"
      ]
     },
     "execution_count": 63,
     "metadata": {},
     "output_type": "execute_result"
    }
   ],
   "source": [
    "set(data['SaleCondition'])"
   ]
  },
  {
   "cell_type": "code",
   "execution_count": 66,
   "metadata": {
    "tags": []
   },
   "outputs": [
    {
     "data": {
      "text/html": [
       "<div>\n",
       "<style scoped>\n",
       "    .dataframe tbody tr th:only-of-type {\n",
       "        vertical-align: middle;\n",
       "    }\n",
       "\n",
       "    .dataframe tbody tr th {\n",
       "        vertical-align: top;\n",
       "    }\n",
       "\n",
       "    .dataframe thead th {\n",
       "        text-align: right;\n",
       "    }\n",
       "</style>\n",
       "<table border=\"1\" class=\"dataframe\">\n",
       "  <thead>\n",
       "    <tr style=\"text-align: right;\">\n",
       "      <th></th>\n",
       "      <th>SalePrice</th>\n",
       "    </tr>\n",
       "    <tr>\n",
       "      <th>SaleCondition</th>\n",
       "      <th></th>\n",
       "    </tr>\n",
       "  </thead>\n",
       "  <tbody>\n",
       "    <tr>\n",
       "      <th>Abnorml</th>\n",
       "      <td>101</td>\n",
       "    </tr>\n",
       "    <tr>\n",
       "      <th>AdjLand</th>\n",
       "      <td>4</td>\n",
       "    </tr>\n",
       "    <tr>\n",
       "      <th>Alloca</th>\n",
       "      <td>12</td>\n",
       "    </tr>\n",
       "    <tr>\n",
       "      <th>Family</th>\n",
       "      <td>20</td>\n",
       "    </tr>\n",
       "    <tr>\n",
       "      <th>Normal</th>\n",
       "      <td>1198</td>\n",
       "    </tr>\n",
       "    <tr>\n",
       "      <th>Partial</th>\n",
       "      <td>125</td>\n",
       "    </tr>\n",
       "  </tbody>\n",
       "</table>\n",
       "</div>"
      ],
      "text/plain": [
       "               SalePrice\n",
       "SaleCondition           \n",
       "Abnorml              101\n",
       "AdjLand                4\n",
       "Alloca                12\n",
       "Family                20\n",
       "Normal              1198\n",
       "Partial              125"
      ]
     },
     "execution_count": 66,
     "metadata": {},
     "output_type": "execute_result"
    }
   ],
   "source": [
    "#groupby is powerful\n",
    "data[['SaleCondition','SalePrice']].groupby(\"SaleCondition\").count()"
   ]
  },
  {
   "cell_type": "code",
   "execution_count": null,
   "metadata": {
    "tags": []
   },
   "outputs": [],
   "source": []
  },
  {
   "cell_type": "code",
   "execution_count": null,
   "metadata": {
    "tags": []
   },
   "outputs": [],
   "source": []
  },
  {
   "cell_type": "markdown",
   "metadata": {},
   "source": [
    "### 2.2 Calculate the average SalePrice for each street (Street)"
   ]
  },
  {
   "cell_type": "code",
   "execution_count": 70,
   "metadata": {
    "tags": []
   },
   "outputs": [
    {
     "data": {
      "text/html": [
       "<div>\n",
       "<style scoped>\n",
       "    .dataframe tbody tr th:only-of-type {\n",
       "        vertical-align: middle;\n",
       "    }\n",
       "\n",
       "    .dataframe tbody tr th {\n",
       "        vertical-align: top;\n",
       "    }\n",
       "\n",
       "    .dataframe thead th {\n",
       "        text-align: right;\n",
       "    }\n",
       "</style>\n",
       "<table border=\"1\" class=\"dataframe\">\n",
       "  <thead>\n",
       "    <tr style=\"text-align: right;\">\n",
       "      <th></th>\n",
       "      <th>Street</th>\n",
       "      <th>SalePrice</th>\n",
       "    </tr>\n",
       "  </thead>\n",
       "  <tbody>\n",
       "    <tr>\n",
       "      <th>0</th>\n",
       "      <td>Grvl</td>\n",
       "      <td>130190.500000</td>\n",
       "    </tr>\n",
       "    <tr>\n",
       "      <th>1</th>\n",
       "      <td>Pave</td>\n",
       "      <td>181130.538514</td>\n",
       "    </tr>\n",
       "  </tbody>\n",
       "</table>\n",
       "</div>"
      ],
      "text/plain": [
       "  Street      SalePrice\n",
       "0   Grvl  130190.500000\n",
       "1   Pave  181130.538514"
      ]
     },
     "execution_count": 70,
     "metadata": {},
     "output_type": "execute_result"
    }
   ],
   "source": [
    "#groupby is powerful\n",
    "data[['Street','SalePrice']].groupby(\"Street\").mean()\n",
    "data.groupby(\"Street\")[['SalePrice']].mean().reset_index()"
   ]
  },
  {
   "cell_type": "markdown",
   "metadata": {},
   "source": [
    "### 2.2 Calculate the average SalePrice for Grvl street (Street)"
   ]
  },
  {
   "cell_type": "code",
   "execution_count": null,
   "metadata": {
    "tags": []
   },
   "outputs": [],
   "source": []
  },
  {
   "cell_type": "code",
   "execution_count": null,
   "metadata": {
    "tags": []
   },
   "outputs": [],
   "source": []
  },
  {
   "cell_type": "markdown",
   "metadata": {
    "tags": []
   },
   "source": [
    "### 2.3 Calculate the average SalePrice for Grvl street (Street) But! Take into account only flats which cost more than 300000"
   ]
  },
  {
   "cell_type": "code",
   "execution_count": null,
   "metadata": {
    "tags": []
   },
   "outputs": [],
   "source": []
  },
  {
   "cell_type": "markdown",
   "metadata": {},
   "source": [
    "## Task 3 Filtering"
   ]
  },
  {
   "cell_type": "markdown",
   "metadata": {},
   "source": [
    "### 3.1 How many flats cost less than 200000 and have a 'Normal' condition (column SaleCondition)"
   ]
  },
  {
   "cell_type": "code",
   "execution_count": 75,
   "metadata": {
    "tags": []
   },
   "outputs": [
    {
     "data": {
      "text/plain": [
       "Id               872\n",
       "MSSubClass       872\n",
       "MSZoning         872\n",
       "LotFrontage      706\n",
       "LotArea          872\n",
       "                ... \n",
       "MoSold           872\n",
       "YrSold           872\n",
       "SaleType         872\n",
       "SaleCondition    872\n",
       "SalePrice        872\n",
       "Length: 81, dtype: int64"
      ]
     },
     "execution_count": 75,
     "metadata": {},
     "output_type": "execute_result"
    }
   ],
   "source": [
    "data[(data.SalePrice < 200000) & (data.SaleCondition == 'Normal')].count()"
   ]
  },
  {
   "cell_type": "markdown",
   "metadata": {
    "tags": []
   },
   "source": [
    "### 3.2 How many flats cost less than 200000 or have a 'Normal' condition (column SaleCondition)"
   ]
  },
  {
   "cell_type": "code",
   "execution_count": 76,
   "metadata": {
    "tags": []
   },
   "outputs": [
    {
     "data": {
      "text/plain": [
       "Id               1351\n",
       "MSSubClass       1351\n",
       "MSZoning         1351\n",
       "LotFrontage      1099\n",
       "LotArea          1351\n",
       "                 ... \n",
       "MoSold           1351\n",
       "YrSold           1351\n",
       "SaleType         1351\n",
       "SaleCondition    1351\n",
       "SalePrice        1351\n",
       "Length: 81, dtype: int64"
      ]
     },
     "execution_count": 76,
     "metadata": {},
     "output_type": "execute_result"
    }
   ],
   "source": [
    "data[(data.SalePrice < 200000) | (data.SaleCondition == 'Normal')].count()"
   ]
  },
  {
   "cell_type": "markdown",
   "metadata": {},
   "source": [
    "### 3.3 How many flats cost have more areas on the second floor(2ndFlrSF) then on the first one(1stFlrSF)?"
   ]
  },
  {
   "cell_type": "code",
   "execution_count": null,
   "metadata": {
    "tags": []
   },
   "outputs": [],
   "source": []
  },
  {
   "cell_type": "markdown",
   "metadata": {
    "tags": []
   },
   "source": [
    "### What is the average cost (in thousands) for such type of the flats?"
   ]
  },
  {
   "cell_type": "code",
   "execution_count": null,
   "metadata": {
    "tags": []
   },
   "outputs": [],
   "source": []
  },
  {
   "cell_type": "code",
   "execution_count": null,
   "metadata": {
    "tags": []
   },
   "outputs": [],
   "source": []
  },
  {
   "cell_type": "code",
   "execution_count": null,
   "metadata": {},
   "outputs": [],
   "source": []
  },
  {
   "cell_type": "code",
   "execution_count": null,
   "metadata": {},
   "outputs": [],
   "source": []
  },
  {
   "cell_type": "markdown",
   "metadata": {},
   "source": [
    "# BONUSES"
   ]
  },
  {
   "cell_type": "markdown",
   "metadata": {
    "nteract": {
     "transient": {
      "deleting": false
     }
    }
   },
   "source": [
    "## Task 1: Study relationships between variables\n",
    "\n",
    "### 1a. see correlation matrix"
   ]
  },
  {
   "cell_type": "code",
   "execution_count": null,
   "metadata": {
    "collapsed": false,
    "gather": {
     "logged": 1665932337283
    },
    "jupyter": {
     "outputs_hidden": false
    },
    "nteract": {
     "transient": {
      "deleting": false
     }
    },
    "tags": []
   },
   "outputs": [],
   "source": [
    "fig=plt.subplots(1,1,figsize=(15,12))\n",
    "sns.heatmap(df[quantitative].corr(),vmin=-1,cmap='coolwarm',annot=True,fmt='0.1f')"
   ]
  },
  {
   "cell_type": "markdown",
   "metadata": {
    "nteract": {
     "transient": {
      "deleting": false
     }
    }
   },
   "source": [
    "### 2b. Boxplots for categorical variables"
   ]
  },
  {
   "cell_type": "code",
   "execution_count": null,
   "metadata": {
    "collapsed": false,
    "gather": {
     "logged": 1665932338324
    },
    "jupyter": {
     "outputs_hidden": false
    },
    "nteract": {
     "transient": {
      "deleting": false
     }
    },
    "tags": []
   },
   "outputs": [],
   "source": [
    "sns.boxplot(data=df,x='MSZoning',y='SalePrice')"
   ]
  },
  {
   "cell_type": "markdown",
   "metadata": {
    "nteract": {
     "transient": {
      "deleting": false
     }
    }
   },
   "source": [
    "## Task 2: ANOVA disparity estimations \n",
    "\n",
    "### One-way ANOVA \n",
    "* Question: Do sale prices differ across categories of certain feature?\n",
    "* Test: Do price means across factors with a feature differ in their underlying distribution? \n",
    "* Are prices of houses with pool drawn from distribution with different mean than prices of house without a pool? \n",
    "\n",
    "* We will test this on all features and plot results\n",
    "\n",
    "### 2a. Function for estimating ANOVA for one feature\n",
    "* Your task is to complete a following snippet:\n",
    "\n",
    "\n",
    "```python\n",
    "\n",
    " def anova_feature(qualitative_series, quantitative_series):\n",
    "    '''\n",
    "    Performs One-way ANOVA testing whether all levels of `qualitative` series are drawn from distributions with equal means\n",
    "\n",
    "    Expects:\n",
    "    - 'qualitative_series': Series with categorical data delienating indivudal groups\n",
    "    - 'quantitative_series': Series with value data on which the distribution is tested\n",
    "    \n",
    "    Uses `scipy.stats.f_oneway` to deliver the test.\n",
    "\n",
    "    Returns pd.Series with `statistic`, `p_value` and `disparity` measure. `statistic` and `p_value` are calculated by `scipy.stats.f_oneway`. Disparity is calculated as 1/log(p_value).\n",
    "    '''\n",
    "    samples =  {\n",
    "        factor: quantitative_series.loc[qualitative_series.fillna('MISSING') == factor] for factor in qualitative_series.fillna('MISSING').unique()\n",
    "    }\n",
    "\n",
    "    anova_result =  stats.f_oneway(*samples.values())\n",
    "    \n",
    "    pass\n",
    "```"
   ]
  },
  {
   "cell_type": "code",
   "execution_count": null,
   "metadata": {
    "collapsed": false,
    "gather": {
     "logged": 1665932355553
    },
    "jupyter": {
     "outputs_hidden": false
    },
    "nteract": {
     "transient": {
      "deleting": false
     }
    }
   },
   "outputs": [],
   "source": [
    "def anova_feature(qualitative_series, quantitative_series):\n",
    "    '''\n",
    "    Performs One-way ANOVA testing whether `quantitative_series` across levels of `qualitative_series` are drawn from distributions with equal means\n",
    "\n",
    "    Expects:\n",
    "    - 'qualitative_series': Series with categorical data delienating indivudal groups\n",
    "    - 'quantitative_series': Series with value data on which the distribution is tested\n",
    "    \n",
    "\n",
    "    Returns Series with test statistic, p-value\n",
    "    '''\n",
    "    samples =  {\n",
    "        factor: quantitative_series.loc[qualitative_series.fillna('MISSING') == factor]for factor in qualitative_series.fillna('MISSING').unique()\n",
    "    }\n",
    "\n",
    "    statistic, pvalue =  stats.f_oneway(*samples.values())\n",
    "    \n",
    "    return pd.Series({\n",
    "        'statistic':statistic,\n",
    "        'p_value':pvalue,\n",
    "        'disparity': math.log(1./pvalue)\n",
    "    })\n",
    "\n",
    "anova_feature(df.MasVnrType, df.SalePrice)"
   ]
  },
  {
   "cell_type": "markdown",
   "metadata": {
    "nteract": {
     "transient": {
      "deleting": false
     }
    }
   },
   "source": [
    "### 2b. Generate dataframe with ANOVA test of all quantitative columns on `SalePrice` in the dataset"
   ]
  },
  {
   "cell_type": "code",
   "execution_count": null,
   "metadata": {
    "collapsed": false,
    "gather": {
     "logged": 1665932371237
    },
    "jupyter": {
     "outputs_hidden": false
    },
    "nteract": {
     "transient": {
      "deleting": false
     }
    }
   },
   "outputs": [],
   "source": [
    "anova = pd.DataFrame({\n",
    "    col: anova_feature(df[col],df.SalePrice) for col in qualitative\n",
    "}).T\n",
    "anova"
   ]
  },
  {
   "cell_type": "markdown",
   "metadata": {
    "nteract": {
     "transient": {
      "deleting": false
     }
    }
   },
   "source": [
    "### 2c. Plot the disparity measure"
   ]
  },
  {
   "cell_type": "code",
   "execution_count": null,
   "metadata": {
    "collapsed": false,
    "gather": {
     "logged": 1665932381965
    },
    "jupyter": {
     "outputs_hidden": false
    },
    "nteract": {
     "transient": {
      "deleting": false
     }
    }
   },
   "outputs": [],
   "source": [
    "anova.disparity.sort_values(ascending=False).plot.bar(figsize=(12,3))"
   ]
  },
  {
   "cell_type": "markdown",
   "metadata": {
    "nteract": {
     "transient": {
      "deleting": false
     }
    }
   },
   "source": [
    "## Task 3: Encode qualitative variables as quantitative\n",
    "### 3a. Feature-level function\n",
    "\n",
    "* Write a function that  an input dataframe with encoded version\n",
    "* Complete the following snippet"
   ]
  },
  {
   "cell_type": "code",
   "execution_count": null,
   "metadata": {
    "collapsed": false,
    "gather": {
     "logged": 1665932504214
    },
    "jupyter": {
     "outputs_hidden": false
    },
    "nteract": {
     "transient": {
      "deleting": false
     }
    }
   },
   "outputs": [],
   "source": [
    "def encode_qualitative_feature(quantitative_series, qualitative_series, sorting_function=np.mean,suffix='_E'):\n",
    "    '''\n",
    "    Ranks `qualitative_series` according to sorting function applied on `quantitative_series` and return its rank as a series. \n",
    "    \n",
    "    Series name is extended with `suffix`.\n",
    "    '''\n",
    "    encode_df = pd.DataFrame({\n",
    "        quantitative_series.name:quantitative_series,\n",
    "        qualitative_series.name:qualitative_series \n",
    "    })\n",
    "\n",
    "    sorting = encode_df.groupby(qualitative_series.name)[quantitative_series.name].apply(np.mean).rank()\n",
    "\n",
    "    return qualitative_series.map(sorting).rename(f'{qualitative_series.name}{suffix}')"
   ]
  },
  {
   "cell_type": "code",
   "execution_count": null,
   "metadata": {},
   "outputs": [],
   "source": [
    "encode_qualitative_feature(df.SalePrice, df.KitchenQual)"
   ]
  },
  {
   "cell_type": "markdown",
   "metadata": {
    "nteract": {
     "transient": {
      "deleting": false
     }
    }
   },
   "source": [
    "## 3b. Apply on all qualitative features\n"
   ]
  },
  {
   "cell_type": "code",
   "execution_count": null,
   "metadata": {
    "collapsed": false,
    "gather": {
     "logged": 1665932509900
    },
    "jupyter": {
     "outputs_hidden": false
    },
    "nteract": {
     "transient": {
      "deleting": false
     }
    }
   },
   "outputs": [],
   "source": [
    "def encode_columns(df, columns, sorting_function=np.mean,suffix='_E'):\n",
    "    for col in columns:\n",
    "        ranked_col = encode_qualitative_feature(df.SalePrice, df[col])\n",
    "        df[ranked_col.name] = ranked_col\n",
    "\n",
    "    return df\n",
    "\n",
    "df_encoded =encode_columns(df.copy(), qualitative, sorting_function=np.mean,suffix='_E')\n",
    "df_encoded"
   ]
  },
  {
   "cell_type": "code",
   "execution_count": null,
   "metadata": {},
   "outputs": [],
   "source": []
  }
 ],
 "metadata": {
  "kernel_info": {
   "name": "python38-azureml"
  },
  "kernelspec": {
   "display_name": "Python 3 (ipykernel)",
   "language": "python",
   "name": "python3"
  },
  "language_info": {
   "codemirror_mode": {
    "name": "ipython",
    "version": 3
   },
   "file_extension": ".py",
   "mimetype": "text/x-python",
   "name": "python",
   "nbconvert_exporter": "python",
   "pygments_lexer": "ipython3",
   "version": "3.12.2"
  },
  "microsoft": {
   "host": {
    "AzureML": {
     "notebookHasBeenCompleted": true
    }
   }
  },
  "nteract": {
   "version": "nteract-front-end@1.0.0"
  }
 },
 "nbformat": 4,
 "nbformat_minor": 4
}
