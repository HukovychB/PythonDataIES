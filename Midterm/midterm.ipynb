{
 "cells": [
  {
   "cell_type": "code",
   "execution_count": 74,
   "metadata": {},
   "outputs": [
    {
     "ename": "ModuleNotFoundError",
     "evalue": "No module named 'pandas_datareader'",
     "output_type": "error",
     "traceback": [
      "\u001b[1;31m---------------------------------------------------------------------------\u001b[0m",
      "\u001b[1;31mModuleNotFoundError\u001b[0m                       Traceback (most recent call last)",
      "Cell \u001b[1;32mIn[74], line 4\u001b[0m\n\u001b[0;32m      2\u001b[0m \u001b[38;5;28;01mimport\u001b[39;00m \u001b[38;5;21;01mnumpy\u001b[39;00m \u001b[38;5;28;01mas\u001b[39;00m \u001b[38;5;21;01mnp\u001b[39;00m\n\u001b[0;32m      3\u001b[0m \u001b[38;5;28;01mimport\u001b[39;00m \u001b[38;5;21;01mmatplotlib\u001b[39;00m\u001b[38;5;21;01m.\u001b[39;00m\u001b[38;5;21;01mpyplot\u001b[39;00m \u001b[38;5;28;01mas\u001b[39;00m \u001b[38;5;21;01mplt\u001b[39;00m\n\u001b[1;32m----> 4\u001b[0m \u001b[38;5;28;01mimport\u001b[39;00m \u001b[38;5;21;01mpandas_datareader\u001b[39;00m\u001b[38;5;21;01m.\u001b[39;00m\u001b[38;5;21;01mdata\u001b[39;00m \u001b[38;5;28;01mas\u001b[39;00m \u001b[38;5;21;01mweb\u001b[39;00m\n",
      "\u001b[1;31mModuleNotFoundError\u001b[0m: No module named 'pandas_datareader'"
     ]
    }
   ],
   "source": [
    "import pandas as pd\n",
    "import numpy as np\n",
    "import matplotlib.pyplot as plt"
   ]
  },
  {
   "cell_type": "code",
   "execution_count": 14,
   "metadata": {},
   "outputs": [],
   "source": [
    "google = pd.read_csv('GOOGL.csv', sep = ',', index_col= 'Date')\n",
    "lkq = pd.read_csv('LKQ.csv', sep = ',', index_col= 'Date')\n",
    "mtd = pd.read_csv('MTD.csv', sep = ',', index_col= 'Date')\n",
    "vtr = pd.read_csv('VTR.csv', sep = ',', index_col= 'Date')\n"
   ]
  },
  {
   "cell_type": "code",
   "execution_count": 15,
   "metadata": {},
   "outputs": [
    {
     "data": {
      "text/html": [
       "<div>\n",
       "<style scoped>\n",
       "    .dataframe tbody tr th:only-of-type {\n",
       "        vertical-align: middle;\n",
       "    }\n",
       "\n",
       "    .dataframe tbody tr th {\n",
       "        vertical-align: top;\n",
       "    }\n",
       "\n",
       "    .dataframe thead th {\n",
       "        text-align: right;\n",
       "    }\n",
       "</style>\n",
       "<table border=\"1\" class=\"dataframe\">\n",
       "  <thead>\n",
       "    <tr style=\"text-align: right;\">\n",
       "      <th></th>\n",
       "      <th>High</th>\n",
       "      <th>Low</th>\n",
       "      <th>Open</th>\n",
       "      <th>Close</th>\n",
       "      <th>Volume</th>\n",
       "      <th>Adj Close</th>\n",
       "    </tr>\n",
       "    <tr>\n",
       "      <th>Date</th>\n",
       "      <th></th>\n",
       "      <th></th>\n",
       "      <th></th>\n",
       "      <th></th>\n",
       "      <th></th>\n",
       "      <th></th>\n",
       "    </tr>\n",
       "  </thead>\n",
       "  <tbody>\n",
       "    <tr>\n",
       "      <th>2017-11-13</th>\n",
       "      <td>52.437000</td>\n",
       "      <td>51.963001</td>\n",
       "      <td>52.040001</td>\n",
       "      <td>52.060001</td>\n",
       "      <td>18814000.0</td>\n",
       "      <td>52.060001</td>\n",
       "    </tr>\n",
       "    <tr>\n",
       "      <th>2017-11-14</th>\n",
       "      <td>52.115002</td>\n",
       "      <td>51.466499</td>\n",
       "      <td>51.886002</td>\n",
       "      <td>52.082001</td>\n",
       "      <td>21012000.0</td>\n",
       "      <td>52.082001</td>\n",
       "    </tr>\n",
       "    <tr>\n",
       "      <th>2017-11-15</th>\n",
       "      <td>51.981499</td>\n",
       "      <td>51.537998</td>\n",
       "      <td>51.750000</td>\n",
       "      <td>51.820499</td>\n",
       "      <td>18106000.0</td>\n",
       "      <td>51.820499</td>\n",
       "    </tr>\n",
       "    <tr>\n",
       "      <th>2017-11-16</th>\n",
       "      <td>52.588001</td>\n",
       "      <td>51.900002</td>\n",
       "      <td>51.937500</td>\n",
       "      <td>52.423500</td>\n",
       "      <td>23768000.0</td>\n",
       "      <td>52.423500</td>\n",
       "    </tr>\n",
       "    <tr>\n",
       "      <th>2017-11-17</th>\n",
       "      <td>52.549999</td>\n",
       "      <td>51.686501</td>\n",
       "      <td>52.490002</td>\n",
       "      <td>51.794498</td>\n",
       "      <td>26712000.0</td>\n",
       "      <td>51.794498</td>\n",
       "    </tr>\n",
       "  </tbody>\n",
       "</table>\n",
       "</div>"
      ],
      "text/plain": [
       "                 High        Low       Open      Close      Volume  Adj Close\n",
       "Date                                                                         \n",
       "2017-11-13  52.437000  51.963001  52.040001  52.060001  18814000.0  52.060001\n",
       "2017-11-14  52.115002  51.466499  51.886002  52.082001  21012000.0  52.082001\n",
       "2017-11-15  51.981499  51.537998  51.750000  51.820499  18106000.0  51.820499\n",
       "2017-11-16  52.588001  51.900002  51.937500  52.423500  23768000.0  52.423500\n",
       "2017-11-17  52.549999  51.686501  52.490002  51.794498  26712000.0  51.794498"
      ]
     },
     "execution_count": 15,
     "metadata": {},
     "output_type": "execute_result"
    }
   ],
   "source": [
    "google.head()"
   ]
  },
  {
   "cell_type": "code",
   "execution_count": 16,
   "metadata": {},
   "outputs": [
    {
     "data": {
      "text/html": [
       "<div>\n",
       "<style scoped>\n",
       "    .dataframe tbody tr th:only-of-type {\n",
       "        vertical-align: middle;\n",
       "    }\n",
       "\n",
       "    .dataframe tbody tr th {\n",
       "        vertical-align: top;\n",
       "    }\n",
       "\n",
       "    .dataframe thead th {\n",
       "        text-align: right;\n",
       "    }\n",
       "</style>\n",
       "<table border=\"1\" class=\"dataframe\">\n",
       "  <thead>\n",
       "    <tr style=\"text-align: right;\">\n",
       "      <th></th>\n",
       "      <th>High</th>\n",
       "      <th>Low</th>\n",
       "      <th>Open</th>\n",
       "      <th>Close</th>\n",
       "      <th>Volume</th>\n",
       "      <th>Adj Close</th>\n",
       "    </tr>\n",
       "    <tr>\n",
       "      <th>Date</th>\n",
       "      <th></th>\n",
       "      <th></th>\n",
       "      <th></th>\n",
       "      <th></th>\n",
       "      <th></th>\n",
       "      <th></th>\n",
       "    </tr>\n",
       "  </thead>\n",
       "  <tbody>\n",
       "    <tr>\n",
       "      <th>2017-11-13</th>\n",
       "      <td>37.240002</td>\n",
       "      <td>36.849998</td>\n",
       "      <td>37.020000</td>\n",
       "      <td>37.220001</td>\n",
       "      <td>1105400</td>\n",
       "      <td>37.220001</td>\n",
       "    </tr>\n",
       "    <tr>\n",
       "      <th>2017-11-14</th>\n",
       "      <td>37.480000</td>\n",
       "      <td>36.889999</td>\n",
       "      <td>37.049999</td>\n",
       "      <td>37.459999</td>\n",
       "      <td>729400</td>\n",
       "      <td>37.459999</td>\n",
       "    </tr>\n",
       "    <tr>\n",
       "      <th>2017-11-15</th>\n",
       "      <td>37.490002</td>\n",
       "      <td>37.009998</td>\n",
       "      <td>37.320000</td>\n",
       "      <td>37.150002</td>\n",
       "      <td>746900</td>\n",
       "      <td>37.150002</td>\n",
       "    </tr>\n",
       "    <tr>\n",
       "      <th>2017-11-16</th>\n",
       "      <td>37.740002</td>\n",
       "      <td>37.220001</td>\n",
       "      <td>37.240002</td>\n",
       "      <td>37.669998</td>\n",
       "      <td>834800</td>\n",
       "      <td>37.669998</td>\n",
       "    </tr>\n",
       "    <tr>\n",
       "      <th>2017-11-17</th>\n",
       "      <td>37.970001</td>\n",
       "      <td>37.500000</td>\n",
       "      <td>37.590000</td>\n",
       "      <td>37.750000</td>\n",
       "      <td>1556900</td>\n",
       "      <td>37.750000</td>\n",
       "    </tr>\n",
       "  </tbody>\n",
       "</table>\n",
       "</div>"
      ],
      "text/plain": [
       "                 High        Low       Open      Close   Volume  Adj Close\n",
       "Date                                                                      \n",
       "2017-11-13  37.240002  36.849998  37.020000  37.220001  1105400  37.220001\n",
       "2017-11-14  37.480000  36.889999  37.049999  37.459999   729400  37.459999\n",
       "2017-11-15  37.490002  37.009998  37.320000  37.150002   746900  37.150002\n",
       "2017-11-16  37.740002  37.220001  37.240002  37.669998   834800  37.669998\n",
       "2017-11-17  37.970001  37.500000  37.590000  37.750000  1556900  37.750000"
      ]
     },
     "execution_count": 16,
     "metadata": {},
     "output_type": "execute_result"
    }
   ],
   "source": [
    "lkq.head()"
   ]
  },
  {
   "cell_type": "code",
   "execution_count": 17,
   "metadata": {},
   "outputs": [
    {
     "data": {
      "text/html": [
       "<div>\n",
       "<style scoped>\n",
       "    .dataframe tbody tr th:only-of-type {\n",
       "        vertical-align: middle;\n",
       "    }\n",
       "\n",
       "    .dataframe tbody tr th {\n",
       "        vertical-align: top;\n",
       "    }\n",
       "\n",
       "    .dataframe thead th {\n",
       "        text-align: right;\n",
       "    }\n",
       "</style>\n",
       "<table border=\"1\" class=\"dataframe\">\n",
       "  <thead>\n",
       "    <tr style=\"text-align: right;\">\n",
       "      <th></th>\n",
       "      <th>High</th>\n",
       "      <th>Low</th>\n",
       "      <th>Open</th>\n",
       "      <th>Close</th>\n",
       "      <th>Volume</th>\n",
       "      <th>Adj Close</th>\n",
       "    </tr>\n",
       "    <tr>\n",
       "      <th>Date</th>\n",
       "      <th></th>\n",
       "      <th></th>\n",
       "      <th></th>\n",
       "      <th></th>\n",
       "      <th></th>\n",
       "      <th></th>\n",
       "    </tr>\n",
       "  </thead>\n",
       "  <tbody>\n",
       "    <tr>\n",
       "      <th>2017-11-13</th>\n",
       "      <td>633.190002</td>\n",
       "      <td>617.419983</td>\n",
       "      <td>619.539978</td>\n",
       "      <td>630.840027</td>\n",
       "      <td>192600</td>\n",
       "      <td>630.840027</td>\n",
       "    </tr>\n",
       "    <tr>\n",
       "      <th>2017-11-14</th>\n",
       "      <td>632.820007</td>\n",
       "      <td>626.150024</td>\n",
       "      <td>630.000000</td>\n",
       "      <td>631.369995</td>\n",
       "      <td>114400</td>\n",
       "      <td>631.369995</td>\n",
       "    </tr>\n",
       "    <tr>\n",
       "      <th>2017-11-15</th>\n",
       "      <td>630.440002</td>\n",
       "      <td>622.549988</td>\n",
       "      <td>630.440002</td>\n",
       "      <td>625.190002</td>\n",
       "      <td>162400</td>\n",
       "      <td>625.190002</td>\n",
       "    </tr>\n",
       "    <tr>\n",
       "      <th>2017-11-16</th>\n",
       "      <td>634.130005</td>\n",
       "      <td>626.479980</td>\n",
       "      <td>626.479980</td>\n",
       "      <td>630.500000</td>\n",
       "      <td>137200</td>\n",
       "      <td>630.500000</td>\n",
       "    </tr>\n",
       "    <tr>\n",
       "      <th>2017-11-17</th>\n",
       "      <td>631.900024</td>\n",
       "      <td>622.700012</td>\n",
       "      <td>627.909973</td>\n",
       "      <td>630.919983</td>\n",
       "      <td>97300</td>\n",
       "      <td>630.919983</td>\n",
       "    </tr>\n",
       "  </tbody>\n",
       "</table>\n",
       "</div>"
      ],
      "text/plain": [
       "                  High         Low        Open       Close  Volume   Adj Close\n",
       "Date                                                                          \n",
       "2017-11-13  633.190002  617.419983  619.539978  630.840027  192600  630.840027\n",
       "2017-11-14  632.820007  626.150024  630.000000  631.369995  114400  631.369995\n",
       "2017-11-15  630.440002  622.549988  630.440002  625.190002  162400  625.190002\n",
       "2017-11-16  634.130005  626.479980  626.479980  630.500000  137200  630.500000\n",
       "2017-11-17  631.900024  622.700012  627.909973  630.919983   97300  630.919983"
      ]
     },
     "execution_count": 17,
     "metadata": {},
     "output_type": "execute_result"
    }
   ],
   "source": [
    "mtd.head()"
   ]
  },
  {
   "cell_type": "code",
   "execution_count": 18,
   "metadata": {},
   "outputs": [
    {
     "data": {
      "text/html": [
       "<div>\n",
       "<style scoped>\n",
       "    .dataframe tbody tr th:only-of-type {\n",
       "        vertical-align: middle;\n",
       "    }\n",
       "\n",
       "    .dataframe tbody tr th {\n",
       "        vertical-align: top;\n",
       "    }\n",
       "\n",
       "    .dataframe thead th {\n",
       "        text-align: right;\n",
       "    }\n",
       "</style>\n",
       "<table border=\"1\" class=\"dataframe\">\n",
       "  <thead>\n",
       "    <tr style=\"text-align: right;\">\n",
       "      <th></th>\n",
       "      <th>High</th>\n",
       "      <th>Low</th>\n",
       "      <th>Open</th>\n",
       "      <th>Close</th>\n",
       "      <th>Volume</th>\n",
       "      <th>Adj Close</th>\n",
       "    </tr>\n",
       "    <tr>\n",
       "      <th>Date</th>\n",
       "      <th></th>\n",
       "      <th></th>\n",
       "      <th></th>\n",
       "      <th></th>\n",
       "      <th></th>\n",
       "      <th></th>\n",
       "    </tr>\n",
       "  </thead>\n",
       "  <tbody>\n",
       "    <tr>\n",
       "      <th>2017-11-13</th>\n",
       "      <td>65.440002</td>\n",
       "      <td>64.900002</td>\n",
       "      <td>65.169998</td>\n",
       "      <td>65.389999</td>\n",
       "      <td>1291800.0</td>\n",
       "      <td>52.881351</td>\n",
       "    </tr>\n",
       "    <tr>\n",
       "      <th>2017-11-14</th>\n",
       "      <td>65.720001</td>\n",
       "      <td>64.980003</td>\n",
       "      <td>65.339996</td>\n",
       "      <td>65.040001</td>\n",
       "      <td>1666100.0</td>\n",
       "      <td>52.598301</td>\n",
       "    </tr>\n",
       "    <tr>\n",
       "      <th>2017-11-15</th>\n",
       "      <td>65.239998</td>\n",
       "      <td>64.320000</td>\n",
       "      <td>65.089996</td>\n",
       "      <td>64.379997</td>\n",
       "      <td>1624600.0</td>\n",
       "      <td>52.064548</td>\n",
       "    </tr>\n",
       "    <tr>\n",
       "      <th>2017-11-16</th>\n",
       "      <td>65.050003</td>\n",
       "      <td>64.129997</td>\n",
       "      <td>64.349998</td>\n",
       "      <td>64.510002</td>\n",
       "      <td>1656700.0</td>\n",
       "      <td>52.169682</td>\n",
       "    </tr>\n",
       "    <tr>\n",
       "      <th>2017-11-17</th>\n",
       "      <td>64.750000</td>\n",
       "      <td>64.160004</td>\n",
       "      <td>64.269997</td>\n",
       "      <td>64.400002</td>\n",
       "      <td>1543000.0</td>\n",
       "      <td>52.080734</td>\n",
       "    </tr>\n",
       "  </tbody>\n",
       "</table>\n",
       "</div>"
      ],
      "text/plain": [
       "                 High        Low       Open      Close     Volume  Adj Close\n",
       "Date                                                                        \n",
       "2017-11-13  65.440002  64.900002  65.169998  65.389999  1291800.0  52.881351\n",
       "2017-11-14  65.720001  64.980003  65.339996  65.040001  1666100.0  52.598301\n",
       "2017-11-15  65.239998  64.320000  65.089996  64.379997  1624600.0  52.064548\n",
       "2017-11-16  65.050003  64.129997  64.349998  64.510002  1656700.0  52.169682\n",
       "2017-11-17  64.750000  64.160004  64.269997  64.400002  1543000.0  52.080734"
      ]
     },
     "execution_count": 18,
     "metadata": {},
     "output_type": "execute_result"
    }
   ],
   "source": [
    "vtr.head()"
   ]
  },
  {
   "cell_type": "code",
   "execution_count": 20,
   "metadata": {},
   "outputs": [],
   "source": [
    "google = google.rename(columns = {\n",
    "    'High' : 'High_Google',\n",
    "    'Low' : 'Low_Google',\n",
    "    'Open' : 'Open_Google',\n",
    "    'Close' : 'Close_Google',\n",
    "    'Volume' : 'Volume_Google',\n",
    "    'Adj Close' : 'AdjClose_Google'\n",
    "})\n",
    "lkq = lkq.rename(columns = {\n",
    "    'High' : 'High_lkq',\n",
    "    'Low' : 'Low_lkq',\n",
    "    'Open' : 'Open_lkq',\n",
    "    'Close' : 'Close_lkq',\n",
    "    'Volume' : 'Volume_lkq',\n",
    "    'Adj Close' : 'AdjClose_lkq'\n",
    "})\n",
    "mtd = mtd.rename(columns = {\n",
    "    'High' : 'High_mtd',\n",
    "    'Low' : 'Low_mtd',\n",
    "    'Open' : 'Open_mtd',\n",
    "    'Close' : 'Close_mtd',\n",
    "    'Volume' : 'Volume_mtd',\n",
    "    'Adj Close' : 'AdjClose_mtd'\n",
    "})\n",
    "vtr = vtr.rename(columns = {\n",
    "    'High' : 'High_vtr',\n",
    "    'Low' : 'Low_vtr',\n",
    "    'Open' : 'Open_vtr',\n",
    "    'Close' : 'Close_vtr',\n",
    "    'Volume' : 'Volume_vtr',\n",
    "    'Adj Close' : 'AdjClose_vtr'\n",
    "})"
   ]
  },
  {
   "cell_type": "code",
   "execution_count": 27,
   "metadata": {},
   "outputs": [
    {
     "data": {
      "text/plain": [
       "1259"
      ]
     },
     "execution_count": 27,
     "metadata": {},
     "output_type": "execute_result"
    }
   ],
   "source": [
    "len(lkq)"
   ]
  },
  {
   "cell_type": "code",
   "execution_count": 31,
   "metadata": {},
   "outputs": [
    {
     "data": {
      "text/html": [
       "<div>\n",
       "<style scoped>\n",
       "    .dataframe tbody tr th:only-of-type {\n",
       "        vertical-align: middle;\n",
       "    }\n",
       "\n",
       "    .dataframe tbody tr th {\n",
       "        vertical-align: top;\n",
       "    }\n",
       "\n",
       "    .dataframe thead th {\n",
       "        text-align: right;\n",
       "    }\n",
       "</style>\n",
       "<table border=\"1\" class=\"dataframe\">\n",
       "  <thead>\n",
       "    <tr style=\"text-align: right;\">\n",
       "      <th></th>\n",
       "      <th>High_Google</th>\n",
       "      <th>Low_Google</th>\n",
       "      <th>Open_Google</th>\n",
       "      <th>Close_Google</th>\n",
       "      <th>Volume_Google</th>\n",
       "      <th>AdjClose_Google</th>\n",
       "      <th>High_vtr</th>\n",
       "      <th>Low_vtr</th>\n",
       "      <th>Open_vtr</th>\n",
       "      <th>Close_vtr</th>\n",
       "      <th>...</th>\n",
       "      <th>Open_lkq</th>\n",
       "      <th>Close_lkq</th>\n",
       "      <th>Volume_lkq</th>\n",
       "      <th>AdjClose_lkq</th>\n",
       "      <th>High_mtd</th>\n",
       "      <th>Low_mtd</th>\n",
       "      <th>Open_mtd</th>\n",
       "      <th>Close_mtd</th>\n",
       "      <th>Volume_mtd</th>\n",
       "      <th>AdjClose_mtd</th>\n",
       "    </tr>\n",
       "    <tr>\n",
       "      <th>Date</th>\n",
       "      <th></th>\n",
       "      <th></th>\n",
       "      <th></th>\n",
       "      <th></th>\n",
       "      <th></th>\n",
       "      <th></th>\n",
       "      <th></th>\n",
       "      <th></th>\n",
       "      <th></th>\n",
       "      <th></th>\n",
       "      <th></th>\n",
       "      <th></th>\n",
       "      <th></th>\n",
       "      <th></th>\n",
       "      <th></th>\n",
       "      <th></th>\n",
       "      <th></th>\n",
       "      <th></th>\n",
       "      <th></th>\n",
       "      <th></th>\n",
       "      <th></th>\n",
       "    </tr>\n",
       "  </thead>\n",
       "  <tbody>\n",
       "    <tr>\n",
       "      <th>2017-11-13</th>\n",
       "      <td>52.437000</td>\n",
       "      <td>51.963001</td>\n",
       "      <td>52.040001</td>\n",
       "      <td>52.060001</td>\n",
       "      <td>18814000.0</td>\n",
       "      <td>52.060001</td>\n",
       "      <td>65.440002</td>\n",
       "      <td>64.900002</td>\n",
       "      <td>65.169998</td>\n",
       "      <td>65.389999</td>\n",
       "      <td>...</td>\n",
       "      <td>37.020000</td>\n",
       "      <td>37.220001</td>\n",
       "      <td>1105400</td>\n",
       "      <td>37.220001</td>\n",
       "      <td>633.190002</td>\n",
       "      <td>617.419983</td>\n",
       "      <td>619.539978</td>\n",
       "      <td>630.840027</td>\n",
       "      <td>192600</td>\n",
       "      <td>630.840027</td>\n",
       "    </tr>\n",
       "    <tr>\n",
       "      <th>2017-11-14</th>\n",
       "      <td>52.115002</td>\n",
       "      <td>51.466499</td>\n",
       "      <td>51.886002</td>\n",
       "      <td>52.082001</td>\n",
       "      <td>21012000.0</td>\n",
       "      <td>52.082001</td>\n",
       "      <td>65.720001</td>\n",
       "      <td>64.980003</td>\n",
       "      <td>65.339996</td>\n",
       "      <td>65.040001</td>\n",
       "      <td>...</td>\n",
       "      <td>37.049999</td>\n",
       "      <td>37.459999</td>\n",
       "      <td>729400</td>\n",
       "      <td>37.459999</td>\n",
       "      <td>632.820007</td>\n",
       "      <td>626.150024</td>\n",
       "      <td>630.000000</td>\n",
       "      <td>631.369995</td>\n",
       "      <td>114400</td>\n",
       "      <td>631.369995</td>\n",
       "    </tr>\n",
       "    <tr>\n",
       "      <th>2017-11-15</th>\n",
       "      <td>51.981499</td>\n",
       "      <td>51.537998</td>\n",
       "      <td>51.750000</td>\n",
       "      <td>51.820499</td>\n",
       "      <td>18106000.0</td>\n",
       "      <td>51.820499</td>\n",
       "      <td>65.239998</td>\n",
       "      <td>64.320000</td>\n",
       "      <td>65.089996</td>\n",
       "      <td>64.379997</td>\n",
       "      <td>...</td>\n",
       "      <td>37.320000</td>\n",
       "      <td>37.150002</td>\n",
       "      <td>746900</td>\n",
       "      <td>37.150002</td>\n",
       "      <td>630.440002</td>\n",
       "      <td>622.549988</td>\n",
       "      <td>630.440002</td>\n",
       "      <td>625.190002</td>\n",
       "      <td>162400</td>\n",
       "      <td>625.190002</td>\n",
       "    </tr>\n",
       "    <tr>\n",
       "      <th>2017-11-16</th>\n",
       "      <td>52.588001</td>\n",
       "      <td>51.900002</td>\n",
       "      <td>51.937500</td>\n",
       "      <td>52.423500</td>\n",
       "      <td>23768000.0</td>\n",
       "      <td>52.423500</td>\n",
       "      <td>65.050003</td>\n",
       "      <td>64.129997</td>\n",
       "      <td>64.349998</td>\n",
       "      <td>64.510002</td>\n",
       "      <td>...</td>\n",
       "      <td>37.240002</td>\n",
       "      <td>37.669998</td>\n",
       "      <td>834800</td>\n",
       "      <td>37.669998</td>\n",
       "      <td>634.130005</td>\n",
       "      <td>626.479980</td>\n",
       "      <td>626.479980</td>\n",
       "      <td>630.500000</td>\n",
       "      <td>137200</td>\n",
       "      <td>630.500000</td>\n",
       "    </tr>\n",
       "    <tr>\n",
       "      <th>2017-11-17</th>\n",
       "      <td>52.549999</td>\n",
       "      <td>51.686501</td>\n",
       "      <td>52.490002</td>\n",
       "      <td>51.794498</td>\n",
       "      <td>26712000.0</td>\n",
       "      <td>51.794498</td>\n",
       "      <td>64.750000</td>\n",
       "      <td>64.160004</td>\n",
       "      <td>64.269997</td>\n",
       "      <td>64.400002</td>\n",
       "      <td>...</td>\n",
       "      <td>37.590000</td>\n",
       "      <td>37.750000</td>\n",
       "      <td>1556900</td>\n",
       "      <td>37.750000</td>\n",
       "      <td>631.900024</td>\n",
       "      <td>622.700012</td>\n",
       "      <td>627.909973</td>\n",
       "      <td>630.919983</td>\n",
       "      <td>97300</td>\n",
       "      <td>630.919983</td>\n",
       "    </tr>\n",
       "  </tbody>\n",
       "</table>\n",
       "<p>5 rows × 24 columns</p>\n",
       "</div>"
      ],
      "text/plain": [
       "            High_Google  Low_Google  Open_Google  Close_Google  Volume_Google  \\\n",
       "Date                                                                            \n",
       "2017-11-13    52.437000   51.963001    52.040001     52.060001     18814000.0   \n",
       "2017-11-14    52.115002   51.466499    51.886002     52.082001     21012000.0   \n",
       "2017-11-15    51.981499   51.537998    51.750000     51.820499     18106000.0   \n",
       "2017-11-16    52.588001   51.900002    51.937500     52.423500     23768000.0   \n",
       "2017-11-17    52.549999   51.686501    52.490002     51.794498     26712000.0   \n",
       "\n",
       "            AdjClose_Google   High_vtr    Low_vtr   Open_vtr  Close_vtr  ...  \\\n",
       "Date                                                                     ...   \n",
       "2017-11-13        52.060001  65.440002  64.900002  65.169998  65.389999  ...   \n",
       "2017-11-14        52.082001  65.720001  64.980003  65.339996  65.040001  ...   \n",
       "2017-11-15        51.820499  65.239998  64.320000  65.089996  64.379997  ...   \n",
       "2017-11-16        52.423500  65.050003  64.129997  64.349998  64.510002  ...   \n",
       "2017-11-17        51.794498  64.750000  64.160004  64.269997  64.400002  ...   \n",
       "\n",
       "             Open_lkq  Close_lkq  Volume_lkq  AdjClose_lkq    High_mtd  \\\n",
       "Date                                                                     \n",
       "2017-11-13  37.020000  37.220001     1105400     37.220001  633.190002   \n",
       "2017-11-14  37.049999  37.459999      729400     37.459999  632.820007   \n",
       "2017-11-15  37.320000  37.150002      746900     37.150002  630.440002   \n",
       "2017-11-16  37.240002  37.669998      834800     37.669998  634.130005   \n",
       "2017-11-17  37.590000  37.750000     1556900     37.750000  631.900024   \n",
       "\n",
       "               Low_mtd    Open_mtd   Close_mtd  Volume_mtd  AdjClose_mtd  \n",
       "Date                                                                      \n",
       "2017-11-13  617.419983  619.539978  630.840027      192600    630.840027  \n",
       "2017-11-14  626.150024  630.000000  631.369995      114400    631.369995  \n",
       "2017-11-15  622.549988  630.440002  625.190002      162400    625.190002  \n",
       "2017-11-16  626.479980  626.479980  630.500000      137200    630.500000  \n",
       "2017-11-17  622.700012  627.909973  630.919983       97300    630.919983  \n",
       "\n",
       "[5 rows x 24 columns]"
      ]
     },
     "execution_count": 31,
     "metadata": {},
     "output_type": "execute_result"
    }
   ],
   "source": [
    "data = pd.merge(google, vtr , on = 'Date')\n",
    "data = pd.merge(data, lkq, on = 'Date')\n",
    "data = pd.merge(data, mtd, on = 'Date')\n",
    "data.head()"
   ]
  },
  {
   "cell_type": "code",
   "execution_count": 40,
   "metadata": {},
   "outputs": [
    {
     "data": {
      "text/plain": [
       "0"
      ]
     },
     "execution_count": 40,
     "metadata": {},
     "output_type": "execute_result"
    }
   ],
   "source": [
    "#1.1\n",
    "sum(data['Close_Google'] != data['AdjClose_Google'])"
   ]
  },
  {
   "cell_type": "code",
   "execution_count": 41,
   "metadata": {},
   "outputs": [
    {
     "data": {
      "text/plain": [
       "0"
      ]
     },
     "execution_count": 41,
     "metadata": {},
     "output_type": "execute_result"
    }
   ],
   "source": [
    "sum(data['Close_lkq'] != data['AdjClose_lkq'])"
   ]
  },
  {
   "cell_type": "code",
   "execution_count": 42,
   "metadata": {},
   "outputs": [
    {
     "data": {
      "text/plain": [
       "0"
      ]
     },
     "execution_count": 42,
     "metadata": {},
     "output_type": "execute_result"
    }
   ],
   "source": [
    "sum(data['Close_mtd'] != data['AdjClose_mtd'])"
   ]
  },
  {
   "cell_type": "code",
   "execution_count": 43,
   "metadata": {},
   "outputs": [
    {
     "data": {
      "text/plain": [
       "1040"
      ]
     },
     "execution_count": 43,
     "metadata": {},
     "output_type": "execute_result"
    }
   ],
   "source": [
    "sum(data['Close_vtr'] != data['AdjClose_vtr'])\n",
    "#Here 1040 observations are different. \n",
    "#It means that for this stock dividends or other distributed gains are not counted in AdjClose."
   ]
  },
  {
   "cell_type": "code",
   "execution_count": 49,
   "metadata": {},
   "outputs": [
    {
     "name": "stdout",
     "output_type": "stream",
     "text": [
      "Highest Adj. Price: Google: 149.8385009765625 LKQ: 60.02999877929688 VTR: 67.00811004638672 MTD: 1702.530029296875\n"
     ]
    }
   ],
   "source": [
    "#1.2\n",
    "print(\"Highest Adj. Price:\",\"Google:\", data['AdjClose_Google'].max(), \"LKQ:\",data['AdjClose_lkq'].max(),\"VTR:\",data['AdjClose_vtr'].max(), \"MTD:\",data['AdjClose_mtd'].max())"
   ]
  },
  {
   "cell_type": "code",
   "execution_count": 50,
   "metadata": {},
   "outputs": [
    {
     "name": "stdout",
     "output_type": "stream",
     "text": [
      "Lowest Adj. Price: Google: 49.23350143432617 LKQ: 13.899999618530272 VTR: 15.462660789489746 MTD: 513.5599975585938\n"
     ]
    }
   ],
   "source": [
    "print(\"Lowest Adj. Price:\",\"Google:\", data['AdjClose_Google'].min(), \"LKQ:\",data['AdjClose_lkq'].min(),\"VTR:\",data['AdjClose_vtr'].min(), \"MTD:\",data['AdjClose_mtd'].min())"
   ]
  },
  {
   "cell_type": "code",
   "execution_count": 53,
   "metadata": {},
   "outputs": [
    {
     "data": {
      "text/html": [
       "<div>\n",
       "<style scoped>\n",
       "    .dataframe tbody tr th:only-of-type {\n",
       "        vertical-align: middle;\n",
       "    }\n",
       "\n",
       "    .dataframe tbody tr th {\n",
       "        vertical-align: top;\n",
       "    }\n",
       "\n",
       "    .dataframe thead th {\n",
       "        text-align: right;\n",
       "    }\n",
       "</style>\n",
       "<table border=\"1\" class=\"dataframe\">\n",
       "  <thead>\n",
       "    <tr style=\"text-align: right;\">\n",
       "      <th></th>\n",
       "      <th>High_Google</th>\n",
       "      <th>Low_Google</th>\n",
       "      <th>Open_Google</th>\n",
       "      <th>Close_Google</th>\n",
       "      <th>Volume_Google</th>\n",
       "      <th>AdjClose_Google</th>\n",
       "      <th>High_vtr</th>\n",
       "      <th>Low_vtr</th>\n",
       "      <th>Open_vtr</th>\n",
       "      <th>Close_vtr</th>\n",
       "      <th>...</th>\n",
       "      <th>High_mtd</th>\n",
       "      <th>Low_mtd</th>\n",
       "      <th>Open_mtd</th>\n",
       "      <th>Close_mtd</th>\n",
       "      <th>Volume_mtd</th>\n",
       "      <th>AdjClose_mtd</th>\n",
       "      <th>returns_google</th>\n",
       "      <th>returns_vtr</th>\n",
       "      <th>returns_mtd</th>\n",
       "      <th>returns_lkq</th>\n",
       "    </tr>\n",
       "    <tr>\n",
       "      <th>Date</th>\n",
       "      <th></th>\n",
       "      <th></th>\n",
       "      <th></th>\n",
       "      <th></th>\n",
       "      <th></th>\n",
       "      <th></th>\n",
       "      <th></th>\n",
       "      <th></th>\n",
       "      <th></th>\n",
       "      <th></th>\n",
       "      <th></th>\n",
       "      <th></th>\n",
       "      <th></th>\n",
       "      <th></th>\n",
       "      <th></th>\n",
       "      <th></th>\n",
       "      <th></th>\n",
       "      <th></th>\n",
       "      <th></th>\n",
       "      <th></th>\n",
       "      <th></th>\n",
       "    </tr>\n",
       "  </thead>\n",
       "  <tbody>\n",
       "    <tr>\n",
       "      <th>2017-11-13</th>\n",
       "      <td>52.437000</td>\n",
       "      <td>51.963001</td>\n",
       "      <td>52.040001</td>\n",
       "      <td>52.060001</td>\n",
       "      <td>18814000.0</td>\n",
       "      <td>52.060001</td>\n",
       "      <td>65.440002</td>\n",
       "      <td>64.900002</td>\n",
       "      <td>65.169998</td>\n",
       "      <td>65.389999</td>\n",
       "      <td>...</td>\n",
       "      <td>633.190002</td>\n",
       "      <td>617.419983</td>\n",
       "      <td>619.539978</td>\n",
       "      <td>630.840027</td>\n",
       "      <td>192600</td>\n",
       "      <td>630.840027</td>\n",
       "      <td>NaN</td>\n",
       "      <td>NaN</td>\n",
       "      <td>NaN</td>\n",
       "      <td>NaN</td>\n",
       "    </tr>\n",
       "    <tr>\n",
       "      <th>2017-11-14</th>\n",
       "      <td>52.115002</td>\n",
       "      <td>51.466499</td>\n",
       "      <td>51.886002</td>\n",
       "      <td>52.082001</td>\n",
       "      <td>21012000.0</td>\n",
       "      <td>52.082001</td>\n",
       "      <td>65.720001</td>\n",
       "      <td>64.980003</td>\n",
       "      <td>65.339996</td>\n",
       "      <td>65.040001</td>\n",
       "      <td>...</td>\n",
       "      <td>632.820007</td>\n",
       "      <td>626.150024</td>\n",
       "      <td>630.000000</td>\n",
       "      <td>631.369995</td>\n",
       "      <td>114400</td>\n",
       "      <td>631.369995</td>\n",
       "      <td>0.000422</td>\n",
       "      <td>-0.005367</td>\n",
       "      <td>0.000840</td>\n",
       "      <td>0.006427</td>\n",
       "    </tr>\n",
       "    <tr>\n",
       "      <th>2017-11-15</th>\n",
       "      <td>51.981499</td>\n",
       "      <td>51.537998</td>\n",
       "      <td>51.750000</td>\n",
       "      <td>51.820499</td>\n",
       "      <td>18106000.0</td>\n",
       "      <td>51.820499</td>\n",
       "      <td>65.239998</td>\n",
       "      <td>64.320000</td>\n",
       "      <td>65.089996</td>\n",
       "      <td>64.379997</td>\n",
       "      <td>...</td>\n",
       "      <td>630.440002</td>\n",
       "      <td>622.549988</td>\n",
       "      <td>630.440002</td>\n",
       "      <td>625.190002</td>\n",
       "      <td>162400</td>\n",
       "      <td>625.190002</td>\n",
       "      <td>-0.005034</td>\n",
       "      <td>-0.010200</td>\n",
       "      <td>-0.009836</td>\n",
       "      <td>-0.008310</td>\n",
       "    </tr>\n",
       "    <tr>\n",
       "      <th>2017-11-16</th>\n",
       "      <td>52.588001</td>\n",
       "      <td>51.900002</td>\n",
       "      <td>51.937500</td>\n",
       "      <td>52.423500</td>\n",
       "      <td>23768000.0</td>\n",
       "      <td>52.423500</td>\n",
       "      <td>65.050003</td>\n",
       "      <td>64.129997</td>\n",
       "      <td>64.349998</td>\n",
       "      <td>64.510002</td>\n",
       "      <td>...</td>\n",
       "      <td>634.130005</td>\n",
       "      <td>626.479980</td>\n",
       "      <td>626.479980</td>\n",
       "      <td>630.500000</td>\n",
       "      <td>137200</td>\n",
       "      <td>630.500000</td>\n",
       "      <td>0.011569</td>\n",
       "      <td>0.002017</td>\n",
       "      <td>0.008458</td>\n",
       "      <td>0.013900</td>\n",
       "    </tr>\n",
       "    <tr>\n",
       "      <th>2017-11-17</th>\n",
       "      <td>52.549999</td>\n",
       "      <td>51.686501</td>\n",
       "      <td>52.490002</td>\n",
       "      <td>51.794498</td>\n",
       "      <td>26712000.0</td>\n",
       "      <td>51.794498</td>\n",
       "      <td>64.750000</td>\n",
       "      <td>64.160004</td>\n",
       "      <td>64.269997</td>\n",
       "      <td>64.400002</td>\n",
       "      <td>...</td>\n",
       "      <td>631.900024</td>\n",
       "      <td>622.700012</td>\n",
       "      <td>627.909973</td>\n",
       "      <td>630.919983</td>\n",
       "      <td>97300</td>\n",
       "      <td>630.919983</td>\n",
       "      <td>-0.012071</td>\n",
       "      <td>-0.001706</td>\n",
       "      <td>0.000666</td>\n",
       "      <td>0.002122</td>\n",
       "    </tr>\n",
       "  </tbody>\n",
       "</table>\n",
       "<p>5 rows × 28 columns</p>\n",
       "</div>"
      ],
      "text/plain": [
       "            High_Google  Low_Google  Open_Google  Close_Google  Volume_Google  \\\n",
       "Date                                                                            \n",
       "2017-11-13    52.437000   51.963001    52.040001     52.060001     18814000.0   \n",
       "2017-11-14    52.115002   51.466499    51.886002     52.082001     21012000.0   \n",
       "2017-11-15    51.981499   51.537998    51.750000     51.820499     18106000.0   \n",
       "2017-11-16    52.588001   51.900002    51.937500     52.423500     23768000.0   \n",
       "2017-11-17    52.549999   51.686501    52.490002     51.794498     26712000.0   \n",
       "\n",
       "            AdjClose_Google   High_vtr    Low_vtr   Open_vtr  Close_vtr  ...  \\\n",
       "Date                                                                     ...   \n",
       "2017-11-13        52.060001  65.440002  64.900002  65.169998  65.389999  ...   \n",
       "2017-11-14        52.082001  65.720001  64.980003  65.339996  65.040001  ...   \n",
       "2017-11-15        51.820499  65.239998  64.320000  65.089996  64.379997  ...   \n",
       "2017-11-16        52.423500  65.050003  64.129997  64.349998  64.510002  ...   \n",
       "2017-11-17        51.794498  64.750000  64.160004  64.269997  64.400002  ...   \n",
       "\n",
       "              High_mtd     Low_mtd    Open_mtd   Close_mtd  Volume_mtd  \\\n",
       "Date                                                                     \n",
       "2017-11-13  633.190002  617.419983  619.539978  630.840027      192600   \n",
       "2017-11-14  632.820007  626.150024  630.000000  631.369995      114400   \n",
       "2017-11-15  630.440002  622.549988  630.440002  625.190002      162400   \n",
       "2017-11-16  634.130005  626.479980  626.479980  630.500000      137200   \n",
       "2017-11-17  631.900024  622.700012  627.909973  630.919983       97300   \n",
       "\n",
       "            AdjClose_mtd  returns_google  returns_vtr  returns_mtd  \\\n",
       "Date                                                                 \n",
       "2017-11-13    630.840027             NaN          NaN          NaN   \n",
       "2017-11-14    631.369995        0.000422    -0.005367     0.000840   \n",
       "2017-11-15    625.190002       -0.005034    -0.010200    -0.009836   \n",
       "2017-11-16    630.500000        0.011569     0.002017     0.008458   \n",
       "2017-11-17    630.919983       -0.012071    -0.001706     0.000666   \n",
       "\n",
       "            returns_lkq  \n",
       "Date                     \n",
       "2017-11-13          NaN  \n",
       "2017-11-14     0.006427  \n",
       "2017-11-15    -0.008310  \n",
       "2017-11-16     0.013900  \n",
       "2017-11-17     0.002122  \n",
       "\n",
       "[5 rows x 28 columns]"
      ]
     },
     "execution_count": 53,
     "metadata": {},
     "output_type": "execute_result"
    }
   ],
   "source": [
    "#1.3\n",
    "data['returns_google'] = np.log(data['AdjClose_Google']) - np.log(data['AdjClose_Google'].shift(1))\n",
    "data['returns_vtr'] = np.log(data['AdjClose_vtr']) - np.log(data['AdjClose_vtr'].shift(1))\n",
    "data['returns_mtd'] = np.log(data['AdjClose_mtd']) - np.log(data['AdjClose_mtd'].shift(1))\n",
    "data['returns_lkq'] = np.log(data['AdjClose_lkq']) - np.log(data['AdjClose_lkq'].shift(1))\n",
    "data.head()"
   ]
  },
  {
   "cell_type": "code",
   "execution_count": 63,
   "metadata": {},
   "outputs": [
    {
     "data": {
      "text/html": [
       "<div>\n",
       "<style scoped>\n",
       "    .dataframe tbody tr th:only-of-type {\n",
       "        vertical-align: middle;\n",
       "    }\n",
       "\n",
       "    .dataframe tbody tr th {\n",
       "        vertical-align: top;\n",
       "    }\n",
       "\n",
       "    .dataframe thead th {\n",
       "        text-align: right;\n",
       "    }\n",
       "</style>\n",
       "<table border=\"1\" class=\"dataframe\">\n",
       "  <thead>\n",
       "    <tr style=\"text-align: right;\">\n",
       "      <th></th>\n",
       "      <th>returns_google</th>\n",
       "      <th>returns_vtr</th>\n",
       "      <th>returns_mtd</th>\n",
       "      <th>returns_lkq</th>\n",
       "    </tr>\n",
       "  </thead>\n",
       "  <tbody>\n",
       "    <tr>\n",
       "      <th>mean</th>\n",
       "      <td>0.000490</td>\n",
       "      <td>-0.000123</td>\n",
       "      <td>0.000669</td>\n",
       "      <td>0.000300</td>\n",
       "    </tr>\n",
       "    <tr>\n",
       "      <th>max</th>\n",
       "      <td>0.091852</td>\n",
       "      <td>0.197010</td>\n",
       "      <td>0.108148</td>\n",
       "      <td>0.198969</td>\n",
       "    </tr>\n",
       "    <tr>\n",
       "      <th>min</th>\n",
       "      <td>-0.123685</td>\n",
       "      <td>-0.336772</td>\n",
       "      <td>-0.111799</td>\n",
       "      <td>-0.213792</td>\n",
       "    </tr>\n",
       "    <tr>\n",
       "      <th>50%</th>\n",
       "      <td>0.001063</td>\n",
       "      <td>0.000579</td>\n",
       "      <td>0.001431</td>\n",
       "      <td>0.000680</td>\n",
       "    </tr>\n",
       "  </tbody>\n",
       "</table>\n",
       "</div>"
      ],
      "text/plain": [
       "      returns_google  returns_vtr  returns_mtd  returns_lkq\n",
       "mean        0.000490    -0.000123     0.000669     0.000300\n",
       "max         0.091852     0.197010     0.108148     0.198969\n",
       "min        -0.123685    -0.336772    -0.111799    -0.213792\n",
       "50%         0.001063     0.000579     0.001431     0.000680"
      ]
     },
     "execution_count": 63,
     "metadata": {},
     "output_type": "execute_result"
    }
   ],
   "source": [
    "data[['returns_google','returns_vtr','returns_mtd', 'returns_lkq']].describe().loc[['mean', 'max', 'min', '50%']]"
   ]
  },
  {
   "cell_type": "code",
   "execution_count": 65,
   "metadata": {},
   "outputs": [
    {
     "data": {
      "text/plain": [
       "'2020-03-13'"
      ]
     },
     "execution_count": 65,
     "metadata": {},
     "output_type": "execute_result"
    }
   ],
   "source": [
    "#1.4\n",
    "data['returns_google'].idxmax()"
   ]
  },
  {
   "cell_type": "code",
   "execution_count": 66,
   "metadata": {},
   "outputs": [
    {
     "data": {
      "text/plain": [
       "'2020-03-24'"
      ]
     },
     "execution_count": 66,
     "metadata": {},
     "output_type": "execute_result"
    }
   ],
   "source": [
    "data['returns_lkq'].idxmax()"
   ]
  },
  {
   "cell_type": "code",
   "execution_count": 67,
   "metadata": {},
   "outputs": [
    {
     "data": {
      "text/plain": [
       "'2020-04-06'"
      ]
     },
     "execution_count": 67,
     "metadata": {},
     "output_type": "execute_result"
    }
   ],
   "source": [
    "data['returns_mtd'].idxmax()"
   ]
  },
  {
   "cell_type": "code",
   "execution_count": 68,
   "metadata": {},
   "outputs": [
    {
     "data": {
      "text/plain": [
       "'2020-03-13'"
      ]
     },
     "execution_count": 68,
     "metadata": {},
     "output_type": "execute_result"
    }
   ],
   "source": [
    "data['returns_vtr'].idxmax()"
   ]
  },
  {
   "cell_type": "code",
   "execution_count": 69,
   "metadata": {},
   "outputs": [
    {
     "data": {
      "text/plain": [
       "'2020-03-16'"
      ]
     },
     "execution_count": 69,
     "metadata": {},
     "output_type": "execute_result"
    }
   ],
   "source": [
    "data['returns_google'].idxmin()"
   ]
  },
  {
   "cell_type": "code",
   "execution_count": 70,
   "metadata": {},
   "outputs": [
    {
     "data": {
      "text/plain": [
       "'2020-03-18'"
      ]
     },
     "execution_count": 70,
     "metadata": {},
     "output_type": "execute_result"
    }
   ],
   "source": [
    "data['returns_lkq'].idxmin()"
   ]
  },
  {
   "cell_type": "code",
   "execution_count": 72,
   "metadata": {},
   "outputs": [
    {
     "data": {
      "text/plain": [
       "'2020-03-16'"
      ]
     },
     "execution_count": 72,
     "metadata": {},
     "output_type": "execute_result"
    }
   ],
   "source": [
    "data['returns_vtr'].idxmin()"
   ]
  },
  {
   "cell_type": "code",
   "execution_count": 71,
   "metadata": {},
   "outputs": [
    {
     "data": {
      "text/plain": [
       "'2020-03-20'"
      ]
     },
     "execution_count": 71,
     "metadata": {},
     "output_type": "execute_result"
    }
   ],
   "source": [
    "data['returns_mtd'].idxmin()"
   ]
  },
  {
   "cell_type": "code",
   "execution_count": 77,
   "metadata": {},
   "outputs": [
    {
     "data": {
      "text/plain": [
       "0.8519016734327591"
      ]
     },
     "execution_count": 77,
     "metadata": {},
     "output_type": "execute_result"
    }
   ],
   "source": [
    "#1.6\n",
    "(data['AdjClose_Google'].iloc[len(data)-1]/data['AdjClose_Google'].iloc[0])-1"
   ]
  },
  {
   "cell_type": "code",
   "execution_count": 78,
   "metadata": {},
   "outputs": [
    {
     "data": {
      "text/plain": [
       "-0.14317618379734331"
      ]
     },
     "execution_count": 78,
     "metadata": {},
     "output_type": "execute_result"
    }
   ],
   "source": [
    "(data['AdjClose_vtr'].iloc[len(data)-1]/data['AdjClose_vtr'].iloc[0])-1"
   ]
  },
  {
   "cell_type": "code",
   "execution_count": 80,
   "metadata": {},
   "outputs": [
    {
     "data": {
      "text/plain": [
       "1.3213175171877851"
      ]
     },
     "execution_count": 80,
     "metadata": {},
     "output_type": "execute_result"
    }
   ],
   "source": [
    "(data['AdjClose_mtd'].iloc[len(data)-1]/data['AdjClose_mtd'].iloc[0])-1\n",
    "#This is the highest"
   ]
  },
  {
   "cell_type": "code",
   "execution_count": 81,
   "metadata": {},
   "outputs": [
    {
     "data": {
      "text/plain": [
       "0.4586243722455672"
      ]
     },
     "execution_count": 81,
     "metadata": {},
     "output_type": "execute_result"
    }
   ],
   "source": [
    "(data['AdjClose_lkq'].iloc[len(data)-1]/data['AdjClose_lkq'].iloc[0])-1"
   ]
  },
  {
   "cell_type": "code",
   "execution_count": 83,
   "metadata": {},
   "outputs": [
    {
     "data": {
      "text/plain": [
       "<Axes: xlabel='Date'>"
      ]
     },
     "execution_count": 83,
     "metadata": {},
     "output_type": "execute_result"
    },
    {
     "data": {
      "image/png": "[encoded data removed]",
      "text/plain": [
       "<Figure size 640x480 with 1 Axes>"
      ]
     },
     "metadata": {},
     "output_type": "display_data"
    }
   ],
   "source": [
    "#1.7\n",
    "data[['returns_google','returns_vtr','returns_mtd','returns_lkq']].plot()"
   ]
  },
  {
   "cell_type": "code",
   "execution_count": 96,
   "metadata": {},
   "outputs": [
    {
     "data": {
      "text/plain": [
       "(array([[  0.,   0.,   0.,   0.,   0.,   0.,   0.,   1.,   1.,   2.,  33.,\n",
       "         155., 769., 266.,  22.,   8.,   1.,   0.,   0.,   0.],\n",
       "        [  2.,   0.,   0.,   0.,   1.,   0.,   1.,   2.,   2.,   5.,  22.,\n",
       "         165., 769., 246.,  26.,   6.,   6.,   1.,   3.,   1.],\n",
       "        [  0.,   0.,   0.,   0.,   0.,   0.,   0.,   0.,   1.,   3.,  24.,\n",
       "         172., 729., 303.,  21.,   4.,   1.,   0.,   0.,   0.],\n",
       "        [  0.,   0.,   0.,   0.,   2.,   1.,   2.,   0.,   1.,   2.,  23.,\n",
       "         206., 716., 256.,  38.,   6.,   2.,   1.,   1.,   1.]]),\n",
       " array([-0.33677236, -0.30998531, -0.28319825, -0.25641119, -0.22962414,\n",
       "        -0.20283708, -0.17605002, -0.14926297, -0.12247591, -0.09568886,\n",
       "        -0.0689018 , -0.04211474, -0.01532769,  0.01145937,  0.03824643,\n",
       "         0.06503348,  0.09182054,  0.11860759,  0.14539465,  0.17218171,\n",
       "         0.19896876]),\n",
       " <a list of 4 BarContainer objects>)"
      ]
     },
     "execution_count": 96,
     "metadata": {},
     "output_type": "execute_result"
    },
    {
     "data": {
      "image/png": "[encoded data removed]",
      "text/plain": [
       "<Figure size 640x480 with 1 Axes>"
      ]
     },
     "metadata": {},
     "output_type": "display_data"
    }
   ],
   "source": [
    "#1.8\n",
    "plt.hist([np.array(data[\"returns_google\"]),np.array(data[\"returns_vtr\"]), np.array(data[\"returns_mtd\"]),np.array(data[\"returns_lkq\"])], bins = 20)"
   ]
  },
  {
   "cell_type": "code",
   "execution_count": null,
   "metadata": {},
   "outputs": [],
   "source": [
    "#2"
   ]
  },
  {
   "cell_type": "code",
   "execution_count": 99,
   "metadata": {},
   "outputs": [
    {
     "data": {
      "text/html": [
       "<div>\n",
       "<style scoped>\n",
       "    .dataframe tbody tr th:only-of-type {\n",
       "        vertical-align: middle;\n",
       "    }\n",
       "\n",
       "    .dataframe tbody tr th {\n",
       "        vertical-align: top;\n",
       "    }\n",
       "\n",
       "    .dataframe thead th {\n",
       "        text-align: right;\n",
       "    }\n",
       "</style>\n",
       "<table border=\"1\" class=\"dataframe\">\n",
       "  <thead>\n",
       "    <tr style=\"text-align: right;\">\n",
       "      <th></th>\n",
       "      <th>Symbol</th>\n",
       "      <th>Security</th>\n",
       "      <th>GICS_Sector</th>\n",
       "      <th>hq</th>\n",
       "      <th>included</th>\n",
       "      <th>Founded</th>\n",
       "    </tr>\n",
       "  </thead>\n",
       "  <tbody>\n",
       "    <tr>\n",
       "      <th>0</th>\n",
       "      <td>MMM</td>\n",
       "      <td>3M</td>\n",
       "      <td>Industrials</td>\n",
       "      <td>Saint Paul, Minnesota</td>\n",
       "      <td>09.08.1976</td>\n",
       "      <td>1902</td>\n",
       "    </tr>\n",
       "    <tr>\n",
       "      <th>1</th>\n",
       "      <td>AOS</td>\n",
       "      <td>A. O. Smith</td>\n",
       "      <td>Industrials</td>\n",
       "      <td>Milwaukee, Wisconsin</td>\n",
       "      <td>26.07.2017</td>\n",
       "      <td>1916</td>\n",
       "    </tr>\n",
       "    <tr>\n",
       "      <th>2</th>\n",
       "      <td>ABT</td>\n",
       "      <td>Abbott</td>\n",
       "      <td>Health Care</td>\n",
       "      <td>North Chicago, Illinois</td>\n",
       "      <td>31.03.1964</td>\n",
       "      <td>1888</td>\n",
       "    </tr>\n",
       "    <tr>\n",
       "      <th>3</th>\n",
       "      <td>ABBV</td>\n",
       "      <td>AbbVie</td>\n",
       "      <td>Health Care</td>\n",
       "      <td>North Chicago, Illinois</td>\n",
       "      <td>31.12.2012</td>\n",
       "      <td>2013 (1888)</td>\n",
       "    </tr>\n",
       "    <tr>\n",
       "      <th>4</th>\n",
       "      <td>ABMD</td>\n",
       "      <td>Abiomed</td>\n",
       "      <td>Health Care</td>\n",
       "      <td>Danvers, Massachusetts</td>\n",
       "      <td>31.05.2018</td>\n",
       "      <td>1981</td>\n",
       "    </tr>\n",
       "  </tbody>\n",
       "</table>\n",
       "</div>"
      ],
      "text/plain": [
       "  Symbol     Security  GICS_Sector                       hq    included  \\\n",
       "0    MMM           3M  Industrials    Saint Paul, Minnesota  09.08.1976   \n",
       "1    AOS  A. O. Smith  Industrials     Milwaukee, Wisconsin  26.07.2017   \n",
       "2    ABT       Abbott  Health Care  North Chicago, Illinois  31.03.1964   \n",
       "3   ABBV       AbbVie  Health Care  North Chicago, Illinois  31.12.2012   \n",
       "4   ABMD      Abiomed  Health Care   Danvers, Massachusetts  31.05.2018   \n",
       "\n",
       "       Founded  \n",
       "0         1902  \n",
       "1         1916  \n",
       "2         1888  \n",
       "3  2013 (1888)  \n",
       "4         1981  "
      ]
     },
     "execution_count": 99,
     "metadata": {},
     "output_type": "execute_result"
    }
   ],
   "source": [
    "data2 = pd.read_csv('companies_no_subindustry.csv', sep = ',')\n",
    "data2.head()"
   ]
  },
  {
   "cell_type": "code",
   "execution_count": 103,
   "metadata": {},
   "outputs": [
    {
     "data": {
      "text/plain": [
       "45"
      ]
     },
     "execution_count": 103,
     "metadata": {},
     "output_type": "execute_result"
    }
   ],
   "source": [
    "#2.1\n",
    "data2.included.isna().sum()"
   ]
  },
  {
   "cell_type": "code",
   "execution_count": 110,
   "metadata": {},
   "outputs": [],
   "source": [
    "#2.2\n",
    "data2_filt = data2[data2.included.notnull()]"
   ]
  },
  {
   "cell_type": "code",
   "execution_count": 131,
   "metadata": {},
   "outputs": [
    {
     "name": "stderr",
     "output_type": "stream",
     "text": [
      "C:\\Users\\пк\\AppData\\Local\\Temp\\ipykernel_19996\\825948340.py:1: SettingWithCopyWarning: \n",
      "A value is trying to be set on a copy of a slice from a DataFrame.\n",
      "Try using .loc[row_indexer,col_indexer] = value instead\n",
      "\n",
      "See the caveats in the documentation: https://pandas.pydata.org/pandas-docs/stable/user_guide/indexing.html#returning-a-view-versus-a-copy\n",
      "  data2_filt['included'] = pd.to_datetime(data2_filt['included'], dayfirst=True,errors='coerce')\n"
     ]
    }
   ],
   "source": [
    "data2_filt['included'] = pd.to_datetime(data2_filt['included'], dayfirst=True,errors='coerce')"
   ]
  },
  {
   "cell_type": "code",
   "execution_count": 114,
   "metadata": {},
   "outputs": [
    {
     "data": {
      "text/plain": [
       "Timestamp('2022-11-01 00:00:00')"
      ]
     },
     "execution_count": 114,
     "metadata": {},
     "output_type": "execute_result"
    }
   ],
   "source": [
    "data2_filt.included.max()"
   ]
  },
  {
   "cell_type": "code",
   "execution_count": 115,
   "metadata": {},
   "outputs": [
    {
     "data": {
      "text/plain": [
       "Timestamp('1957-03-04 00:00:00')"
      ]
     },
     "execution_count": 115,
     "metadata": {},
     "output_type": "execute_result"
    }
   ],
   "source": [
    "data2_filt.included.min()"
   ]
  },
  {
   "cell_type": "code",
   "execution_count": null,
   "metadata": {},
   "outputs": [],
   "source": []
  }
 ],
 "metadata": {
  "kernelspec": {
   "display_name": "Python 3",
   "language": "python",
   "name": "python3"
  },
  "language_info": {
   "codemirror_mode": {
    "name": "ipython",
    "version": 3
   },
   "file_extension": ".py",
   "mimetype": "text/x-python",
   "name": "python",
   "nbconvert_exporter": "python",
   "pygments_lexer": "ipython3",
   "version": "3.12.2"
  }
 },
 "nbformat": 4,
 "nbformat_minor": 2
}
