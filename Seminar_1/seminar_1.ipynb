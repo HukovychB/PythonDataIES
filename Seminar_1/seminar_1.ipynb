{
 "cells": [
  {
   "cell_type": "markdown",
   "id": "fa9e11ab",
   "metadata": {},
   "source": [
    "# Seminar: Lists, dictionaries, functions, exceptions\n"
   ]
  },
  {
   "cell_type": "markdown",
   "id": "239ab00a-b400-4a6b-a51f-780c76eb3f3e",
   "metadata": {
    "tags": []
   },
   "source": [
    "### Task 0. \n",
    "Write a loop which will add \"_adj\" to the each element of the list:\n",
    "[\"close\", \"open\", \"high\", \"high\"]"
   ]
  },
  {
   "cell_type": "code",
   "execution_count": 3,
   "id": "cf359ec2-8f2b-4570-b075-a3bf5afd73ff",
   "metadata": {
    "tags": []
   },
   "outputs": [],
   "source": [
    "my_list = [\"close\", \"open\", \"high\", \"high\"]"
   ]
  },
  {
   "cell_type": "code",
   "execution_count": 4,
   "id": "0d51f0d0-cdf4-4eda-9288-07d00c0b8906",
   "metadata": {
    "tags": []
   },
   "outputs": [
    {
     "name": "stdout",
     "output_type": "stream",
     "text": [
      "close_adj\n",
      "open_adj\n",
      "high_adj\n",
      "high_adj\n"
     ]
    }
   ],
   "source": [
    "for item in my_list:\n",
    "    print(item+\"_adj\")"
   ]
  },
  {
   "cell_type": "markdown",
   "id": "9d88e376-d4f8-43e5-8131-29eb944a9ced",
   "metadata": {},
   "source": [
    "Do the same but write all of the code in one line (list comprehension)."
   ]
  },
  {
   "cell_type": "code",
   "execution_count": 5,
   "id": "50ab8814-f05b-4ed0-9099-d9d761fe98ff",
   "metadata": {
    "tags": []
   },
   "outputs": [],
   "source": [
    "my_list = [\"close\", \"open\", \"high\", \"high\"]"
   ]
  },
  {
   "cell_type": "code",
   "execution_count": 9,
   "id": "d329b4d6-7b43-431e-a670-fdd78799c1c6",
   "metadata": {
    "tags": []
   },
   "outputs": [
    {
     "name": "stdout",
     "output_type": "stream",
     "text": [
      "close_adj\n",
      "open_adj\n",
      "high_adj\n",
      "high_adj\n"
     ]
    }
   ],
   "source": [
    "new_list = [print(item+\"_adj\") for item in my_list]"
   ]
  },
  {
   "cell_type": "markdown",
   "id": "d0dda828",
   "metadata": {},
   "source": [
    "### Task 1. \n",
    "\n",
    "Write a function which will sum up all values in the list"
   ]
  },
  {
   "cell_type": "markdown",
   "id": "1401ca62",
   "metadata": {},
   "source": [
    "#### a. For the case when input is list of integers."
   ]
  },
  {
   "cell_type": "code",
   "execution_count": 4,
   "id": "f6d17a45-c02d-43e5-ae03-144d79d7121c",
   "metadata": {
    "tags": []
   },
   "outputs": [],
   "source": [
    "my_list_int = [0, 1, 1, 2, 3, 5, 10, 13]"
   ]
  },
  {
   "cell_type": "code",
   "execution_count": 2,
   "id": "8750cd32",
   "metadata": {
    "tags": []
   },
   "outputs": [],
   "source": [
    "def sum_up(i):\n",
    "    x=0\n",
    "    for y in i:\n",
    "        x+=y\n",
    "    return(x) "
   ]
  },
  {
   "cell_type": "code",
   "execution_count": 7,
   "id": "fefdbef8",
   "metadata": {
    "tags": []
   },
   "outputs": [
    {
     "data": {
      "text/plain": [
       "35"
      ]
     },
     "execution_count": 7,
     "metadata": {},
     "output_type": "execute_result"
    }
   ],
   "source": [
    "sum_up(my_list_int)\n",
    "sum(my_list_int)"
   ]
  },
  {
   "cell_type": "markdown",
   "id": "e06770f1",
   "metadata": {},
   "source": [
    "#### b. What will be if the input is list of strings?"
   ]
  },
  {
   "cell_type": "code",
   "execution_count": 32,
   "id": "f07c53c5-edc2-473c-80c4-b141c3a85c27",
   "metadata": {
    "tags": []
   },
   "outputs": [],
   "source": [
    "my_list_str = ['0', 'a', '1', 'bb', 'ccc', '5', '8', '13']"
   ]
  },
  {
   "cell_type": "code",
   "execution_count": 33,
   "id": "10ec1e55-5ea2-4e4d-86c0-985f118e2802",
   "metadata": {
    "tags": []
   },
   "outputs": [
    {
     "ename": "TypeError",
     "evalue": "unsupported operand type(s) for +=: 'int' and 'str'",
     "output_type": "error",
     "traceback": [
      "\u001b[1;31m---------------------------------------------------------------------------\u001b[0m",
      "\u001b[1;31mTypeError\u001b[0m                                 Traceback (most recent call last)",
      "Cell \u001b[1;32mIn[33], line 1\u001b[0m\n\u001b[1;32m----> 1\u001b[0m \u001b[43msum_up\u001b[49m\u001b[43m(\u001b[49m\u001b[43mmy_list_str\u001b[49m\u001b[43m)\u001b[49m\n",
      "Cell \u001b[1;32mIn[28], line 4\u001b[0m, in \u001b[0;36msum_up\u001b[1;34m(i)\u001b[0m\n\u001b[0;32m      2\u001b[0m x\u001b[38;5;241m=\u001b[39m\u001b[38;5;241m0\u001b[39m\n\u001b[0;32m      3\u001b[0m \u001b[38;5;28;01mfor\u001b[39;00m y \u001b[38;5;129;01min\u001b[39;00m i:\n\u001b[1;32m----> 4\u001b[0m     \u001b[43mx\u001b[49m\u001b[38;5;241;43m+\u001b[39;49m\u001b[38;5;241;43m=\u001b[39;49m\u001b[43my\u001b[49m\n\u001b[0;32m      5\u001b[0m \u001b[38;5;28;01mreturn\u001b[39;00m(x)\n",
      "\u001b[1;31mTypeError\u001b[0m: unsupported operand type(s) for +=: 'int' and 'str'"
     ]
    }
   ],
   "source": [
    "sum_up(my_list_str)"
   ]
  },
  {
   "cell_type": "code",
   "execution_count": null,
   "id": "6f214987-4948-4afb-85fb-4a140196d051",
   "metadata": {},
   "outputs": [],
   "source": [
    "# change the function in order to avoid error and get the answer: '0a1bbccc5813'"
   ]
  },
  {
   "cell_type": "code",
   "execution_count": 35,
   "id": "c4aa17cc",
   "metadata": {
    "tags": []
   },
   "outputs": [],
   "source": [
    "def sum_up_str(i):\n",
    "    try:\n",
    "        x=0\n",
    "        for y in i:\n",
    "            x+=y\n",
    "        return(x)\n",
    "    except TypeError:\n",
    "        q=\"\"\n",
    "        for y in i:\n",
    "            q+=y\n",
    "        return(q)\n"
   ]
  },
  {
   "cell_type": "code",
   "execution_count": 36,
   "id": "10fac1f0",
   "metadata": {
    "tags": []
   },
   "outputs": [
    {
     "data": {
      "text/plain": [
       "'0a1bbccc5813'"
      ]
     },
     "execution_count": 36,
     "metadata": {},
     "output_type": "execute_result"
    }
   ],
   "source": [
    "sum_up_str(my_list_str)"
   ]
  },
  {
   "cell_type": "markdown",
   "id": "d67d8c92",
   "metadata": {},
   "source": [
    "#### c. Rewrite the function sum_up in the way, that we will get a message 'can not sum it up' if the summation can't be performed"
   ]
  },
  {
   "cell_type": "code",
   "execution_count": 40,
   "id": "461057db-76ed-45ce-9195-94e7449b8042",
   "metadata": {
    "tags": []
   },
   "outputs": [],
   "source": [
    "mixed_list = [1, 4, 'd']"
   ]
  },
  {
   "cell_type": "code",
   "execution_count": 42,
   "id": "7b489ffb-38d3-46e5-b150-ed2c8470dda3",
   "metadata": {
    "tags": []
   },
   "outputs": [],
   "source": [
    "def sum_up_except(i):\n",
    "    try:\n",
    "        x=0\n",
    "        for y in i:\n",
    "            x+=y\n",
    "        return(x) \n",
    "    except TypeError:\n",
    "        print(\"can not sum it up\")"
   ]
  },
  {
   "cell_type": "code",
   "execution_count": 43,
   "id": "2c31130b-b976-4861-9609-484d8a22ff72",
   "metadata": {
    "tags": []
   },
   "outputs": [
    {
     "name": "stdout",
     "output_type": "stream",
     "text": [
      "can not sum it up\n"
     ]
    }
   ],
   "source": [
    "sum_up_except(mixed_list)"
   ]
  },
  {
   "cell_type": "code",
   "execution_count": null,
   "id": "93ba0f67-a433-4104-a57a-7a897d3dcf2b",
   "metadata": {},
   "outputs": [],
   "source": [
    "# return nothing if the summation can not be performed "
   ]
  },
  {
   "cell_type": "code",
   "execution_count": 44,
   "id": "fb521cf9-ba60-49ef-b144-8448c2f8c908",
   "metadata": {
    "tags": []
   },
   "outputs": [],
   "source": [
    "def sum_up_except(i):\n",
    "    try:\n",
    "        x=0\n",
    "        for y in i:\n",
    "            x+=y\n",
    "        return(x) \n",
    "    except TypeError:\n",
    "        print(\"\")"
   ]
  },
  {
   "cell_type": "code",
   "execution_count": 45,
   "id": "759ddcbd-076c-4135-bbb2-b4bc9159248a",
   "metadata": {
    "tags": []
   },
   "outputs": [
    {
     "name": "stdout",
     "output_type": "stream",
     "text": [
      "\n"
     ]
    }
   ],
   "source": [
    "sum_up_except(mixed_list)"
   ]
  },
  {
   "cell_type": "markdown",
   "id": "3240b759",
   "metadata": {},
   "source": [
    "#### d. Why do we need to write the exceptions?"
   ]
  },
  {
   "cell_type": "code",
   "execution_count": 46,
   "id": "ad2390cf",
   "metadata": {
    "tags": []
   },
   "outputs": [
    {
     "name": "stdout",
     "output_type": "stream",
     "text": [
      "Step 1\n",
      "\n",
      "Step 2: None\n",
      "Step 3\n"
     ]
    }
   ],
   "source": [
    "print('Step 1')\n",
    "print(f'Step 2: {sum_up_except([1, 4, \"d\"])}')\n",
    "print('Step 3')"
   ]
  },
  {
   "cell_type": "code",
   "execution_count": 47,
   "id": "ec92a671",
   "metadata": {
    "tags": []
   },
   "outputs": [
    {
     "name": "stdout",
     "output_type": "stream",
     "text": [
      "Step 1\n",
      "can not sum it up\n",
      "Step 2: None\n",
      "Step 3\n"
     ]
    }
   ],
   "source": [
    "print('Step 1')\n",
    "print(f'Step 2: {sum_up([1, 4, \"d\"])}')\n",
    "print('Step 3')"
   ]
  },
  {
   "cell_type": "markdown",
   "id": "278db275",
   "metadata": {},
   "source": [
    "### Task 2."
   ]
  },
  {
   "cell_type": "markdown",
   "id": "d3d3a943",
   "metadata": {},
   "source": [
    "In this task we will work with the dictionary:"
   ]
  },
  {
   "cell_type": "code",
   "execution_count": 69,
   "id": "eba4a98b",
   "metadata": {
    "tags": []
   },
   "outputs": [],
   "source": [
    "dic_food = {'apple':5, 'orange':4, 'onion':9}"
   ]
  },
  {
   "cell_type": "markdown",
   "id": "3074601e",
   "metadata": {},
   "source": [
    "#### a. Calculate how many products in total do we have. How many fruits?"
   ]
  },
  {
   "cell_type": "code",
   "execution_count": 76,
   "id": "65fc0173",
   "metadata": {
    "tags": []
   },
   "outputs": [
    {
     "data": {
      "text/plain": [
       "9"
      ]
     },
     "execution_count": 76,
     "metadata": {},
     "output_type": "execute_result"
    }
   ],
   "source": [
    "def sum_products(i):\n",
    "    x=0\n",
    "    for key,value in i.items():\n",
    "        x+=value\n",
    "    return(x)\n",
    "sum_up([k for k in dic_food.values()][:2])\n"
   ]
  },
  {
   "cell_type": "code",
   "execution_count": 54,
   "id": "f35e6c38",
   "metadata": {
    "tags": []
   },
   "outputs": [
    {
     "data": {
      "text/plain": [
       "18"
      ]
     },
     "execution_count": 54,
     "metadata": {},
     "output_type": "execute_result"
    }
   ],
   "source": [
    "sum_products(dic_food)"
   ]
  },
  {
   "cell_type": "code",
   "execution_count": 55,
   "id": "c205408f",
   "metadata": {
    "tags": []
   },
   "outputs": [],
   "source": [
    "list_fruits = ['apple', 'orange']"
   ]
  },
  {
   "cell_type": "markdown",
   "id": "a3ca5ec2",
   "metadata": {},
   "source": [
    "#### b. Add one more apple and change the numbers of onions to 1"
   ]
  },
  {
   "cell_type": "code",
   "execution_count": 66,
   "id": "d85c63a1",
   "metadata": {
    "tags": []
   },
   "outputs": [],
   "source": [
    "dic_food.update({\"apple\": 6, \"onion\": 1})"
   ]
  },
  {
   "cell_type": "code",
   "execution_count": 67,
   "id": "831fe4ba",
   "metadata": {
    "tags": []
   },
   "outputs": [
    {
     "data": {
      "text/plain": [
       "{'apple': 6, 'orange': 4, 'onion': 1}"
      ]
     },
     "execution_count": 67,
     "metadata": {},
     "output_type": "execute_result"
    }
   ],
   "source": [
    "dic_food"
   ]
  },
  {
   "cell_type": "code",
   "execution_count": null,
   "id": "0b9ace80",
   "metadata": {
    "tags": []
   },
   "outputs": [],
   "source": []
  },
  {
   "cell_type": "code",
   "execution_count": null,
   "id": "6d513519",
   "metadata": {
    "tags": []
   },
   "outputs": [],
   "source": []
  },
  {
   "cell_type": "code",
   "execution_count": null,
   "id": "b765d603",
   "metadata": {},
   "outputs": [],
   "source": []
  },
  {
   "cell_type": "code",
   "execution_count": null,
   "id": "9e7d3831",
   "metadata": {
    "tags": []
   },
   "outputs": [],
   "source": []
  },
  {
   "cell_type": "markdown",
   "id": "7c03197c",
   "metadata": {},
   "source": [
    "#### c. Make the same dictionary from the lists: "
   ]
  },
  {
   "cell_type": "code",
   "execution_count": 56,
   "id": "cc3b305e",
   "metadata": {},
   "outputs": [],
   "source": [
    "prod_name = ['apple', 'orange', 'onion']\n",
    "prod_amount = [1,5,5]"
   ]
  },
  {
   "cell_type": "code",
   "execution_count": 57,
   "id": "6672ef13",
   "metadata": {},
   "outputs": [
    {
     "data": {
      "text/plain": [
       "{'apple': 1, 'orange': 5, 'onion': 5}"
      ]
     },
     "execution_count": 57,
     "metadata": {},
     "output_type": "execute_result"
    }
   ],
   "source": [
    "#zip() combines the values\n",
    "new_dict = {name:amount for name,amount in zip(prod_name, prod_amount)}\n",
    "new_dict"
   ]
  },
  {
   "cell_type": "markdown",
   "id": "3649c1cb",
   "metadata": {},
   "source": [
    "#### d. What will happened if we have dublicates in the list of keys?"
   ]
  },
  {
   "cell_type": "code",
   "execution_count": 58,
   "id": "c66a0a13",
   "metadata": {},
   "outputs": [],
   "source": [
    "prod_name = ['apple', 'orange', 'onion', 'apple']\n",
    "prod_amount = [1,5,3,2]"
   ]
  },
  {
   "cell_type": "code",
   "execution_count": 59,
   "id": "a1188206",
   "metadata": {},
   "outputs": [
    {
     "data": {
      "text/plain": [
       "{'apple': 2, 'orange': 5, 'onion': 3}"
      ]
     },
     "execution_count": 59,
     "metadata": {},
     "output_type": "execute_result"
    }
   ],
   "source": [
    "new_dict = {name:amount for name,amount in zip(prod_name, prod_amount)}\n",
    "new_dict"
   ]
  }
 ],
 "metadata": {
  "kernelspec": {
   "display_name": "Python 3 (ipykernel)",
   "language": "python",
   "name": "python3"
  },
  "language_info": {
   "codemirror_mode": {
    "name": "ipython",
    "version": 3
   },
   "file_extension": ".py",
   "mimetype": "text/x-python",
   "name": "python",
   "nbconvert_exporter": "python",
   "pygments_lexer": "ipython3",
   "version": "3.12.2"
  }
 },
 "nbformat": 4,
 "nbformat_minor": 5
}
